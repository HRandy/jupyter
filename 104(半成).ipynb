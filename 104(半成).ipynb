{
 "cells": [
  {
   "cell_type": "code",
   "execution_count": 50,
   "metadata": {
    "collapsed": true
   },
   "outputs": [],
   "source": [
    "#分類找工作頁面"
   ]
  },
  {
   "cell_type": "code",
   "execution_count": 51,
   "metadata": {
    "collapsed": true
   },
   "outputs": [],
   "source": [
    "#step_1"
   ]
  },
  {
   "cell_type": "code",
   "execution_count": 52,
   "metadata": {
    "collapsed": false
   },
   "outputs": [
    {
     "name": "stdout",
     "output_type": "stream",
     "text": [
      "{'Content-Length': '12230', 'Content-Encoding': 'gzip', 'Vary': 'Accept-Encoding', 'Server': '104', 'Connection': 'keep-alive', 'Front-End-Https': 'on', 'Date': 'Tue, 08 Nov 2016 07:55:52 GMT', 'Content-Type': 'text/html'}\n"
     ]
    }
   ],
   "source": [
    "import requests as r\n",
    "from bs4 import BeautifulSoup\n",
    "URL_page = 'https://www.104.com.tw'\n",
    "URL_page_1 = URL_page + '/jb/category/?cat=1&no=2007001000&jobsource=104_bank1'\n",
    "print (r.get(URL_page_1)).headers\n",
    "\n",
    "(r.get(URL_page_1)).encoding = 'unicode'\n",
    "soup_step_1 = BeautifulSoup(r.get(URL_page_1).text,'lxml')"
   ]
  },
  {
   "cell_type": "code",
   "execution_count": 53,
   "metadata": {
    "collapsed": false
   },
   "outputs": [
    {
     "data": {
      "text/plain": [
       "'https://www.104.com.tw/jb/category/?cat=1&no=2007001000&step=area&jobsource=104_bank1'"
      ]
     },
     "execution_count": 53,
     "metadata": {},
     "output_type": "execute_result"
    }
   ],
   "source": [
    "dict_page_1 = {}\n",
    "dict_page_1['url_all'] = soup_step_1.select_one('.all-list').select_one('a')['href']  #'所有軟體工作'選項\n",
    "URL_page + dict_page_1['url_all']"
   ]
  },
  {
   "cell_type": "code",
   "execution_count": 54,
   "metadata": {
    "collapsed": true
   },
   "outputs": [],
   "source": [
    "#step_2"
   ]
  },
  {
   "cell_type": "code",
   "execution_count": 55,
   "metadata": {
    "collapsed": false
   },
   "outputs": [
    {
     "name": "stdout",
     "output_type": "stream",
     "text": [
      "https://www.104.com.tw/jobbank/joblist/joblist.cfm?jobcat=2007001000&area=6001004000&jobsource=104_bank1\n"
     ]
    }
   ],
   "source": [
    "URL_page_2 = URL_page + dict_page_1['url_all']\n",
    "soup_step_2 = BeautifulSoup(r.get(URL_page_2).text,'lxml')\n",
    "\n",
    "soup_step_2_sel = soup_step_2.select('.third-step')\n",
    "for city in soup_step_2_sel :\n",
    "    dict_page_1['URL_Taipei'] = city.select('a')[0]['href']    #基隆市\n",
    "    URL_Taipei = URL_page + dict_page_1['URL_Taipei']\n",
    "    print URL_Taipei"
   ]
  },
  {
   "cell_type": "code",
   "execution_count": 56,
   "metadata": {
    "collapsed": true
   },
   "outputs": [],
   "source": [
    "#職缺表列頁面"
   ]
  },
  {
   "cell_type": "code",
   "execution_count": 57,
   "metadata": {
    "collapsed": false
   },
   "outputs": [
    {
     "name": "stdout",
     "output_type": "stream",
     "text": [
      "[<div class=\"j_cont line_bottom\" itemscope=\"\" itemtype=\"http://schema.org/JobPosting\">\\n<ul class=\"summary_tit\">\\n<li><div class=\"check\"><input name=\"to_cookie\" type=\"checkbox\" value=\"5328199,\"/><input name=\"orderno\" type=\"hidden\" value=\"F5328199\"/><input name=\"cookie_names\" type=\"hidden\" value=\"5328199\"/><input name=\"custno_item\" type=\"hidden\" value=\"22035355000\"/></div></li>\\n<li><div class=\"date\" itemprop=\"datePosted\">11/07</div></li>\\n<li>\\n<div class=\"jobname_summary job_name\"><a href=\"/job/?jobno=3679j&amp;jobsource=104_bank1&amp;hotjob_chr=\" onclick=\"gaClickjob();\" target=\"_blank\"><span itemprop=\"title\" title=\"&lt;MIS\\u7a0b\\u5f0f\\u8a2d\\u8a08\\u5e2b\\u8a73\\u7d30\\u8cc7\\u6599&gt;\">MIS\\u7a0b\\u5f0f\\u8a2d\\u8a08\\u5e2b</span></a></div>\\n</li>\\n<li>\\n<div class=\"area_summary\" itemprop=\"jobLocation\" itemscope=\"\" itemtype=\"http://schema.org/Place\">\\n<span class=\"location\" itemprop=\"address\" itemscope=\"\" itemtype=\"http://schema.org/Postaladdress\">\\n<span itemprop=\"addressLocality\">\\u57fa\\u9686\\u5e02\\u5b89\\u6a02\\u5340</span>\\n</span>\\n</div>\\n</li>\\n<li>\\n<input class=\"gray apply_job\" id=\"5328199\" onclick=\"gaApply();mail_to_company('5328199','3d3b456e4147405732333b64413f386314d71436c3d5d3f22222222223b3c2726472j00','22035355000')\" type=\"button\" value=\"\\u6211\\u8981\\u61c9\\u5fb5\"/>\\n</li>\\n</ul>\\n<ul class=\"summary\">\\n<li><div class=\"corpimg_summary\">\\xa0</div></li>\\n<li>\\n<div class=\"compname_summary\" itemprop=\"hiringOrganization\" itemtype=\"http://schema.org/Organization\">\\n<a href=\"/jobbank/custjob/index.php?r=cust&amp;j=4c4a436e486c3e6738583a1d1d1d1d5f2443a363189j99&amp;jobsource=104_bank1\" onclick=\"gaClickcust();\" target=\"_blank\"><span itemprop=\"name\" title=\"&lt;\\u516c\\u53f8\\u540d\\uff1a\\u5143\\u748b\\u73bb\\u7483\\u80a1\\u4efd\\u6709\\u9650\\u516c\\u53f8&gt;\\n&lt;\\u516c\\u53f8\\u5730\\u5740\\uff1a\\u57fa\\u9686\\u5e02\\u5b89\\u6a02\\u5340\\u6b66\\u8a13\\u885712\\u865f&gt;\">\\u5143\\u748b\\u73bb\\u7483\\u80a1\\u4efd\\u6709\\u9650\\u516c\\u53f8</span></a>\\n</div>\\n</li>\\n<li><div class=\"candidates_summary\">\\n<a href=\"javascript:void(0)\" onclick=\"mail_to_rptapply('3d3b456e4147405732333b64413f386314d71436c3d5d3f22222222223b3c2726472j00');\">0-5\\u4eba\\u61c9\\u5fb5</a>\\n</div></li>\\n</ul>\\n<div class=\"requirement\">3\\u5e74\\u4ee5\\u4e0a\\u5de5\\u4f5c\\u7d93\\u6b77\\uff0c\\u5927\\u5b78\\u5b78\\u6b77\\uff0c\\u5f85\\u9047\\u9762\\u8b70</div>\\n<div class=\"joblist_summary\" itemprop=\"description\">1. JAVA Web Base\\u61c9\\u7528\\u7a0b\\u5f0f\\u958b\\u767c\\n2. \\u7cfb\\u7d71\\u7a0b\\u5f0f\\u898f\\u5283\\u53ca\\u898f\\u683c\\u66f8\\u958b\\u7acb\\n3. \\u7cfb\\u7d71\\u76f8\\u95dc\\u6587\\u4ef6\\u7684\\u88fd\\u4f5c\\n4. MS SQL\\u8cc7\\u6599\\u5eab\\u7dad\\u8b77</div>\\n</div>, <div class=\"j_cont line_bottom\" itemscope=\"\" itemtype=\"http://schema.org/JobPosting\">\\n<ul class=\"summary_tit\">\\n<li><div class=\"check\"><input name=\"to_cookie\" type=\"checkbox\" value=\"8018423,\"/><input name=\"orderno\" type=\"hidden\" value=\"F8018423\"/><input name=\"cookie_names\" type=\"hidden\" value=\"8018423\"/><input name=\"custno_item\" type=\"hidden\" value=\"27407761000\"/></div></li>\\n<li><div class=\"date\" itemprop=\"datePosted\">11/04</div></li>\\n<li>\\n<div class=\"jobname_summary job_name\"><a href=\"/job/?jobno=4rv1z&amp;jobsource=104_bank1&amp;hotjob_chr=\" onclick=\"gaClickjob();\" target=\"_blank\"><span itemprop=\"title\" title=\"&lt;\\u8cc7\\u8a0a\\u90e8\\u4e3b\\u7ba1\\u8a73\\u7d30\\u8cc7\\u6599&gt;\">\\u8cc7\\u8a0a\\u90e8\\u4e3b\\u7ba1</span></a></div>\\n</li>\\n<li>\\n<div class=\"area_summary\" itemprop=\"jobLocation\" itemscope=\"\" itemtype=\"http://schema.org/Place\">\\n<span class=\"location\" itemprop=\"address\" itemscope=\"\" itemtype=\"http://schema.org/Postaladdress\">\\n<span itemprop=\"addressLocality\">\\u57fa\\u9686\\u5e02\\u4e03\\u5835\\u5340</span>\\n</span>\\n</div>\\n</li>\\n<li>\\n<input class=\"gray apply_job\" id=\"8018423\" onclick=\"gaApply();mail_to_company('8018423','4f414b733b3d475d3839416a375b3e2206141492b5d6345282828286c3f682d2c917j02','27407761000')\" type=\"button\" value=\"\\u6211\\u8981\\u61c9\\u5fb5\"/>\\n</li>\\n</ul>\\n<ul class=\"summary\">\\n<li><div class=\"corpimg_summary\">\\xa0</div></li>\\n<li>\\n<div class=\"compname_summary\" itemprop=\"hiringOrganization\" itemtype=\"http://schema.org/Organization\">\\n<a href=\"/jobbank/custjob/index.php?r=cust&amp;j=3c60432756363e2052583a1d1d1d1d5f2443a363189j99&amp;jobsource=104_bank1\" onclick=\"gaClickcust();\" target=\"_blank\"><span itemprop=\"name\" title=\"&lt;\\u516c\\u53f8\\u540d\\uff1a\\u5408\\u90a6\\u570b\\u969b\\u5132\\u904b\\u80a1\\u4efd\\u6709\\u9650\\u516c\\u53f8&gt;\\n&lt;\\u516c\\u53f8\\u5730\\u5740\\uff1a\\u9ad8\\u96c4\\u5e02\\u4ec1\\u6b66\\u5340\\u4eac\\u5bcc\\u8def310\\u865f&gt;\">\\u5408\\u90a6\\u570b\\u969b\\u5132\\u904b\\u80a1\\u4efd\\u6709\\u9650\\u516c\\u53f8</span></a>\\n</div>\\n</li>\\n<li><div class=\"candidates_summary\">\\n<a href=\"javascript:void(0)\" onclick=\"mail_to_rptapply('4f414b733b3d475d3839416a375b3e2206141492b5d6345282828286c3f682d2c917j02');\">0-5\\u4eba\\u61c9\\u5fb5</a>\\n</div></li>\\n</ul>\\n<div class=\"requirement\">3\\u5e74\\u4ee5\\u4e0a\\u5de5\\u4f5c\\u7d93\\u6b77\\uff0c\\u5c08\\u79d1\\u5b78\\u6b77\\uff0c\\u5f85\\u9047\\u9762\\u8b70</div>\\n<div class=\"joblist_summary\" itemprop=\"description\">1. \\u5177\\u7cfb\\u7d71\\u8a2d\\u5099\\u6574\\u5408\\u8207\\u7db2\\u8def\\u67b6\\u69cb\\u898f\\u5283\\u7ba1\\u7406\\u4e4b\\u80fd\\u529b \\n2. \\u5177\\u5009\\u5132\\u7269\\u6d41\\u696d\\u5c08\\u6848\\u7d93\\u9a57\\u70ba\\u4f73 \\n3. \\u5177\\u7cfb\\u7d71\\u5206\\u6790\\u3001\\u7a0b\\u5f0f\\u8a2d\\u8a08\\u8207\\u958b\\u767c\\u81f3\\u5c113\\u5e74\\u7d93\\u9a57</div>\\n</div>, <div class=\"j_cont line_bottom\" itemscope=\"\" itemtype=\"http://schema.org/JobPosting\">\\n<ul class=\"summary_tit\">\\n<li><div class=\"check\"><input name=\"to_cookie\" type=\"checkbox\" value=\"8169963,\"/><input name=\"orderno\" type=\"hidden\" value=\"F8169963\"/><input name=\"cookie_names\" type=\"hidden\" value=\"8169963\"/><input name=\"custno_item\" type=\"hidden\" value=\"16999508000\"/></div></li>\\n<li><div class=\"date\" itemprop=\"datePosted\">11/03</div></li>\\n<li>\\n<div class=\"jobname_summary job_name\"><a href=\"/job/?jobno=4v3zf&amp;jobsource=104_bank1&amp;hotjob_chr=\" onclick=\"gaClickjob();\" target=\"_blank\"><span itemprop=\"title\" title=\"&lt;\\u8edf\\u9ad4\\u5de5\\u7a0b\\u5e2b\\u8a73\\u7d30\\u8cc7\\u6599&gt;\">\\u8edf\\u9ad4\\u5de5\\u7a0b\\u5e2b</span></a></div>\\n</li>\\n<li>\\n<div class=\"area_summary\" itemprop=\"jobLocation\" itemscope=\"\" itemtype=\"http://schema.org/Place\">\\n<span class=\"location\" itemprop=\"address\" itemscope=\"\" itemtype=\"http://schema.org/Postaladdress\">\\n<span itemprop=\"addressLocality\">\\u57fa\\u9686\\u5e02\\u4e03\\u5835\\u5340</span>\\n</span>\\n</div>\\n</li>\\n<li>\\n<input class=\"gray apply_job\" id=\"8169963\" onclick=\"gaApply();mail_to_company('8169963','69514b2d3f3d475d3839416a59353d20869514b30534d4528282828253f682d2c917j57','16999508000')\" type=\"button\" value=\"\\u6211\\u8981\\u61c9\\u5fb5\"/>\\n</li>\\n</ul>\\n<ul class=\"summary\">\\n<li><div class=\"corpimg_summary\">\\xa0</div></li>\\n<li>\\n<div class=\"compname_summary\" itemprop=\"hiringOrganization\" itemtype=\"http://schema.org/Organization\">\\n<a href=\"/jobbank/custjob/index.php?r=cust&amp;j=5e3a42255e46402548423a1d1d1d1d5f2443a363189j01&amp;jobsource=104_bank1\" onclick=\"gaClickcust();\" target=\"_blank\"><span itemprop=\"name\" title=\"&lt;\\u516c\\u53f8\\u540d\\uff1a\\u6607\\u9054\\u79d1\\u6280\\u80a1\\u4efd\\u6709\\u9650\\u516c\\u53f8&gt;\\n&lt;\\u516c\\u53f8\\u5730\\u5740\\uff1a\\u57fa\\u9686\\u5e02\\u4e03\\u5835\\u5340\\u5de5\\u5efa\\u8def\\u4e00\\u865f&gt;\">\\u6607\\u9054\\u79d1\\u6280\\u80a1\\u4efd\\u6709\\u9650\\u516c\\u53f8</span></a>\\n</div>\\n</li>\\n<li><div class=\"candidates_summary\">\\n<a href=\"javascript:void(0)\" onclick=\"mail_to_rptapply('69514b2d3f3d475d3839416a59353d20869514b30534d4528282828253f682d2c917j57');\">0-5\\u4eba\\u61c9\\u5fb5</a>\\n</div></li>\\n</ul>\\n<div class=\"requirement\">1\\u5e74\\u4ee5\\u4e0a\\u5de5\\u4f5c\\u7d93\\u6b77\\uff0c\\u5c08\\u79d1\\u5b78\\u6b77\\uff0c\\u5f85\\u9047\\u9762\\u8b70</div>\\n<div class=\"joblist_summary\" itemprop=\"description\">1.\\u719fJava script\\uff0c\\u61c2Java\\u3001MS SQL\\u6216\\u6709Easyflow GP\\u7dad\\u8b77\\u7d93\\u9a57\\u8005\\u4f73. \\r\\n2.\\u6709BPM\\u7d93\\u9a57\\u8005\\u4f73</div>\\n</div>, <div class=\"j_cont line_bottom\" itemscope=\"\" itemtype=\"http://schema.org/JobPosting\">\\n<ul class=\"summary_tit\">\\n<li><div class=\"check\"><input name=\"to_cookie\" type=\"checkbox\" value=\"7941801,\"/><input name=\"orderno\" type=\"hidden\" value=\"F7941801\"/><input name=\"cookie_names\" type=\"hidden\" value=\"7941801\"/><input name=\"custno_item\" type=\"hidden\" value=\"4698269000\"/></div></li>\\n<li><div class=\"date\" itemprop=\"datePosted\">11/02</div></li>\\n<li>\\n<div class=\"jobname_summary job_name\"><a href=\"/job/?jobno=4q7xl&amp;jobsource=104_bank1&amp;hotjob_chr=\" onclick=\"gaClickjob();\" target=\"_blank\"><span itemprop=\"title\" title=\"&lt;\\u8edf\\u9ad4\\u5de5\\u7a0b\\u5e2b\\u8a73\\u7d30\\u8cc7\\u6599&gt;\">\\u8edf\\u9ad4\\u5de5\\u7a0b\\u5e2b</span></a></div>\\n</li>\\n<li>\\n<div class=\"area_summary\" itemprop=\"jobLocation\" itemscope=\"\" itemtype=\"http://schema.org/Place\">\\n<span class=\"location\" itemprop=\"address\" itemscope=\"\" itemtype=\"http://schema.org/Postaladdress\">\\n<span itemprop=\"addressLocality\">\\u57fa\\u9686\\u5e02\\u4e03\\u5835\\u5340</span>\\n</span>\\n</div>\\n</li>\\n<li>\\n<input class=\"gray apply_job\" id=\"7941801\" onclick=\"gaApply();mail_to_company('7941801','474943262a373d662f413b1d332d371c94f394224242424673d312d6391j55','4698269000')\" type=\"button\" value=\"\\u6211\\u8981\\u61c9\\u5fb5\"/>\\n</li>\\n</ul>\\n<ul class=\"summary\">\\n<li><div class=\"corpimg_summary\">\\xa0</div></li>\\n<li>\\n<div class=\"compname_summary\" itemprop=\"hiringOrganization\" itemtype=\"http://schema.org/Organization\">\\n<a href=\"/jobbank/custjob/index.php?r=cust&amp;j=384a44263c36402548323b1d1d1d1d5f24437323189j56&amp;jobsource=104_bank1\" onclick=\"gaClickcust();\" target=\"_blank\"><span itemprop=\"name\" title=\"&lt;\\u516c\\u53f8\\u540d\\uff1a\\u4e2d\\u570b\\u7aef\\u5b50\\u96fb\\u696d\\u80a1\\u4efd\\u6709\\u9650\\u516c\\u53f8&gt;\\n&lt;\\u516c\\u53f8\\u5730\\u5740\\uff1a\\u57fa\\u9686\\u5e02\\u4e03\\u5835\\u5340\\u5de5\\u5efa\\u8def1-7\\u865f&gt;\">\\u4e2d\\u570b\\u7aef\\u5b50\\u96fb\\u696d\\u80a1\\u4efd\\u6709\\u9650\\u516c\\u53f8</span></a>\\n</div>\\n</li>\\n<li><div class=\"candidates_summary\">\\n<a href=\"javascript:void(0)\" onclick=\"mail_to_rptapply('474943262a373d662f413b1d332d371c94f394224242424673d312d6391j55');\">0-5\\u4eba\\u61c9\\u5fb5</a>\\n</div></li>\\n</ul>\\n<div class=\"requirement\">\\u5de5\\u4f5c\\u7d93\\u6b77\\u4e0d\\u62d8\\uff0c\\u5c08\\u79d1\\u5b78\\u6b77\\uff0c\\u5f85\\u9047\\u9762\\u8b70</div>\\n<div class=\"joblist_summary\" itemprop=\"description\">1.\\u8edf\\u9ad4\\u7a0b\\u5f0f\\u64b0\\u5beb\\n2.\\u4f9d\\u5ba2\\u6236\\u898f\\u683c\\u9032\\u884c\\u6e2c\\u8a66</div>\\n</div>, <div class=\"j_cont line_bottom\" itemscope=\"\" itemtype=\"http://schema.org/JobPosting\">\\n<ul class=\"summary_tit\">\\n<li><div class=\"check\"><input name=\"to_cookie\" type=\"checkbox\" value=\"5535185,\"/><input name=\"orderno\" type=\"hidden\" value=\"F5535185\"/><input name=\"cookie_names\" type=\"hidden\" value=\"5535185\"/><input name=\"custno_item\" type=\"hidden\" value=\"70515157000\"/></div></li>\\n<li><div class=\"date\" itemprop=\"datePosted\">11/02</div></li>\\n<li>\\n<div class=\"jobname_summary job_name\"><a href=\"/job/?jobno=3amz5&amp;jobsource=104_bank1&amp;hotjob_chr=\" onclick=\"gaClickjob();\" target=\"_blank\"><span itemprop=\"title\" title=\"&lt;(\\u8cc7\\u6df1)MIS\\u8edf\\u9ad4\\u8a2d\\u8a08\\u5de5\\u7a0b\\u5e2b/\\u5132\\u5099\\u5e79\\u90e8\\u8a73\\u7d30\\u8cc7\\u6599&gt;\">(\\u8cc7\\u6df1)MIS\\u8edf\\u9ad4\\u8a2d\\u8a08\\u5de5\\u7a0b\\u5e2b/\\u5132\\u5099\\u5e79\\u90e8</span></a></div>\\n</li>\\n<li>\\n<div class=\"area_summary\" itemprop=\"jobLocation\" itemscope=\"\" itemtype=\"http://schema.org/Place\">\\n<span class=\"location\" itemprop=\"address\" itemscope=\"\" itemtype=\"http://schema.org/Postaladdress\">\\n<span itemprop=\"addressLocality\">\\u57fa\\u9686\\u5e02\\u5b89\\u6a02\\u5340</span>\\n</span>\\n</div>\\n</li>\\n<li>\\n<input class=\"gray apply_job\" id=\"5535185\" onclick=\"gaApply();mail_to_company('5535185','414f48734d4b445b36373f6853433c653514f472a39714426262626253e402b2a735j49','70515157000')\" type=\"button\" value=\"\\u6211\\u8981\\u61c9\\u5fb5\"/>\\n</li>\\n</ul>\\n<ul class=\"summary\">\\n<li><div class=\"corpimg_summary\">\\xa0</div></li>\\n<li>\\n<div class=\"compname_summary\" itemprop=\"hiringOrganization\" itemtype=\"http://schema.org/Organization\">\\n<a href=\"/jobbank/custjob/index.php?r=cust&amp;j=5a4a436c48463e2130683b1d1d1d1d5f2443a363189j97&amp;jobsource=104_bank1\" onclick=\"gaClickcust();\" target=\"_blank\"><span itemprop=\"name\" title=\"&lt;\\u516c\\u53f8\\u540d\\uff1a\\u5275\\u70ba\\u7cbe\\u5bc6\\u6750\\u6599\\u80a1\\u4efd\\u6709\\u9650\\u516c\\u53f8&gt;\\n&lt;\\u516c\\u53f8\\u5730\\u5740\\uff1a\\u57fa\\u9686\\u5e02\\u5b89\\u6a02\\u5340\\u6b66\\u8a13\\u885784\\u865f&gt;\">\\u5275\\u70ba\\u7cbe\\u5bc6\\u6750\\u6599\\u80a1\\u4efd\\u6709\\u9650\\u516c\\u53f8</span></a>\\n</div>\\n</li>\\n<li><div class=\"candidates_summary\">\\n<a href=\"javascript:void(0)\" onclick=\"mail_to_rptapply('414f48734d4b445b36373f6853433c653514f472a39714426262626253e402b2a735j49');\">0-5\\u4eba\\u61c9\\u5fb5</a>\\n</div></li>\\n</ul>\\n<div class=\"requirement\">1\\u5e74\\u4ee5\\u4e0a\\u5de5\\u4f5c\\u7d93\\u6b77\\uff0c\\u5c08\\u79d1\\u5b78\\u6b77\\uff0c\\u5f85\\u9047\\u9762\\u8b70</div>\\n<div class=\"joblist_summary\" itemprop=\"description\">1.Web \\u61c9\\u7528\\u7cfb\\u7d71\\u8a2d\\u8a08\\u8207\\u958b\\u767c(ASP.NET, C#(shop)\\u3001Java Script\\u3001XML)\\n2.MS SQL server \\u61c9\\u7528\\u7ba1\\u7406\\n3.\\u5c08\\u6848\\u7ba1\\u7406\\n4.\\u5168\\u65b9\\u4f4d\\u53c3\\u8207\\u88fd\\u9020\\u696d\\u8cc7\\u8a0a\\u6d41</div>\\n</div>, <div class=\"j_cont line_bottom\" itemscope=\"\" itemtype=\"http://schema.org/JobPosting\">\\n<ul class=\"summary_tit\">\\n<li><div class=\"check\"><input name=\"to_cookie\" type=\"checkbox\" value=\"8268300,\"/><input name=\"orderno\" type=\"hidden\" value=\"F8268300\"/><input name=\"cookie_names\" type=\"hidden\" value=\"8268300\"/><input name=\"custno_item\" type=\"hidden\" value=\"12264131000\"/></div></li>\\n<li><div class=\"date\" itemprop=\"datePosted\">11/01</div></li>\\n<li>\\n<div class=\"jobname_summary job_name\"><a href=\"/job/?jobno=4x7v0&amp;jobsource=104_bank1&amp;hotjob_chr=\" onclick=\"gaClickjob();\" target=\"_blank\"><span itemprop=\"title\" title=\"&lt;\\u96fb\\u5b50\\u5546\\u52d9\\u8a73\\u7d30\\u8cc7\\u6599&gt;\">\\u96fb\\u5b50\\u5546\\u52d9</span></a></div>\\n</li>\\n<li>\\n<div class=\"area_summary\" itemprop=\"jobLocation\" itemscope=\"\" itemtype=\"http://schema.org/Place\">\\n<span class=\"location\" itemprop=\"address\" itemscope=\"\" itemtype=\"http://schema.org/Postaladdress\">\\n<span itemprop=\"addressLocality\">\\u57fa\\u9686\\u5e02\\u5b89\\u6a02\\u5340</span>\\n</span>\\n</div>\\n</li>\\n<li>\\n<input class=\"gray apply_job\" id=\"8268300\" onclick=\"gaApply();mail_to_company('8268300','443a44263c36405631323a633064366084860436d3c463e2121212163382b2625381j52','12264131000')\" type=\"button\" value=\"\\u6211\\u8981\\u61c9\\u5fb5\"/>\\n</li>\\n</ul>\\n<ul class=\"summary\">\\n<li><div class=\"corpimg_summary\">\\xa0</div></li>\\n<li>\\n<div class=\"compname_summary\" itemprop=\"hiringOrganization\" itemtype=\"http://schema.org/Organization\">\\n<a href=\"/jobbank/custjob/index.php?r=cust&amp;j=3c70426c445c3f6938423a1d1d1d1d5f2443a363189j99&amp;jobsource=104_bank1\" onclick=\"gaClickcust();\" target=\"_blank\"><span itemprop=\"name\" title=\"&lt;\\u516c\\u53f8\\u540d\\uff1a\\u6bc5\\u592a\\u4f01\\u696d\\u80a1\\u4efd\\u6709\\u9650\\u516c\\u53f8&gt;\\n&lt;\\u516c\\u53f8\\u5730\\u5740\\uff1a\\u57fa\\u9686\\u5e02\\u5b89\\u6a02\\u5340\\u6b66\\u8a13\\u885751\\u865f&gt;\">\\u6bc5\\u592a\\u4f01\\u696d\\u80a1\\u4efd\\u6709\\u9650\\u516c\\u53f8</span></a>\\n</div>\\n</li>\\n<li><div class=\"candidates_summary\">\\n<a href=\"javascript:void(0)\" onclick=\"mail_to_rptapply('443a44263c36405631323a633064366084860436d3c463e2121212163382b2625381j52');\">0-5\\u4eba\\u61c9\\u5fb5</a>\\n</div></li>\\n</ul>\\n<div class=\"requirement\">\\u5de5\\u4f5c\\u7d93\\u6b77\\u4e0d\\u62d8\\uff0c\\u5927\\u5b78\\u5b78\\u6b77\\uff0c\\u5f85\\u9047\\u9762\\u8b70</div>\\n<div class=\"joblist_summary\" itemprop=\"description\"></div>\\n</div>, <div class=\"j_cont line_bottom\" itemscope=\"\" itemtype=\"http://schema.org/JobPosting\">\\n<ul class=\"summary_tit\">\\n<li><div class=\"check\"><input name=\"to_cookie\" type=\"checkbox\" value=\"7097911,\"/><input name=\"orderno\" type=\"hidden\" value=\"F7097911\"/><input name=\"cookie_names\" type=\"hidden\" value=\"7097911\"/><input name=\"custno_item\" type=\"hidden\" value=\"84750054000\"/></div></li>\\n<li><div class=\"date\" itemprop=\"datePosted\">10/25</div></li>\\n<li>\\n<div class=\"jobname_summary job_name\"><a href=\"/job/?jobno=484s7&amp;jobsource=104_bank1&amp;hotjob_chr=\" onclick=\"gaClickjob();\" target=\"_blank\"><span itemprop=\"title\" title=\"&lt;\\u8cc7\\u8a0a\\u985e-\\u7a0b\\u5f0f\\u8a2d\\u8a08\\u5e2b(\\u4e0a\\u73ed\\u5730\\u9ede:\\u57fa\\u9686\\u4e03\\u5835)\\u8a73\\u7d30\\u8cc7\\u6599&gt;\">\\u8cc7\\u8a0a\\u985e-\\u7a0b\\u5f0f\\u8a2d\\u8a08\\u5e2b(\\u4e0a\\u73ed\\u5730\\u9ede:\\u57fa\\u9686\\u4e03\\u5835)</span></a></div>\\n</li>\\n<li>\\n<div class=\"area_summary\" itemprop=\"jobLocation\" itemscope=\"\" itemtype=\"http://schema.org/Place\">\\n<span class=\"location\" itemprop=\"address\" itemscope=\"\" itemtype=\"http://schema.org/Postaladdress\">\\n<span itemprop=\"addressLocality\">\\u57fa\\u9686\\u5e02\\u4e03\\u5835\\u5340</span>\\n</span>\\n</div>\\n</li>\\n<li>\\n<input class=\"gray apply_job\" id=\"7097911\" onclick=\"gaApply();mail_to_company('7097911','616f4228336b3e55303139623b3d365e13749422643353f2020202063373a2524290j49','84750054000')\" type=\"button\" value=\"\\u6211\\u8981\\u61c9\\u5fb5\"/>\\n</li>\\n</ul>\\n<ul class=\"summary\">\\n<li><div class=\"corpimg_summary\"><span class=\"icon_company\" title=\"\\u4f01\\u696d\\u5f62\\u8c61\\u5ee3\\u544a\"></span></div></li>\\n<li>\\n<div class=\"compname_summary\" itemprop=\"hiringOrganization\" itemtype=\"http://schema.org/Organization\">\\n<a href=\"/jobbank/custjob/index.php?r=cust&amp;j=484a436b34463f2340323c1d1d1d1d5f2443a363189j56&amp;jobsource=104_bank1\" onclick=\"gaClickcust();\" target=\"_blank\"><span itemprop=\"name\" title=\"&lt;\\u516c\\u53f8\\u540d\\uff1a\\u54c1\\u5b89\\u79d1\\u6280\\u80a1\\u4efd\\u6709\\u9650\\u516c\\u53f8&gt;\\n&lt;\\u516c\\u53f8\\u5730\\u5740\\uff1a\\u53f0\\u5317\\u5e02\\u5167\\u6e56\\u5340\\u6210\\u529f\\u8def5\\u6bb5460\\u865f9\\u6a13&gt;\">\\u54c1\\u5b89\\u79d1\\u6280\\u80a1\\u4efd\\u6709\\u9650\\u516c\\u53f8</span></a>\\n</div>\\n</li>\\n<li><div class=\"candidates_summary\">\\n<a href=\"javascript:void(0)\" onclick=\"mail_to_rptapply('616f4228336b3e55303139623b3d365e13749422643353f2020202063373a2524290j49');\">0-5\\u4eba\\u61c9\\u5fb5</a>\\n</div></li>\\n</ul>\\n<div class=\"requirement\">1\\u5e74\\u4ee5\\u4e0a\\u5de5\\u4f5c\\u7d93\\u6b77\\uff0c\\u5c08\\u79d1\\u5b78\\u6b77\\uff0c\\u5f85\\u9047\\u9762\\u8b70</div>\\n<div class=\"joblist_summary\" itemprop=\"description\">1. C#\\u3001ASP.Net\\u7a0b\\u5f0f\\u958b\\u767c\\n2. \\u8cc7\\u6599\\u5eab\\u958b\\u767c\\u8a2d\\u8a08\\u53ca\\u7dad\\u8b77\\n3. \\u8de8\\u7cfb\\u7d71\\u7a0b\\u5f0f\\u958b\\u767c</div>\\n</div>, <div class=\"j_cont line_bottom\" itemscope=\"\" itemtype=\"http://schema.org/JobPosting\">\\n<ul class=\"summary_tit\">\\n<li><div class=\"check\"><input name=\"to_cookie\" type=\"checkbox\" value=\"1351591,\"/><input name=\"orderno\" type=\"hidden\" value=\"F1351591\"/><input name=\"cookie_names\" type=\"hidden\" value=\"1351591\"/><input name=\"custno_item\" type=\"hidden\" value=\"4200199000\"/></div></li>\\n<li><div class=\"date\" itemprop=\"datePosted\">10/18</div></li>\\n<li>\\n<div class=\"jobname_summary job_name\"><a href=\"/job/?jobno=syw7&amp;jobsource=104_bank1&amp;hotjob_chr=\" onclick=\"gaClickjob();\" target=\"_blank\"><span itemprop=\"title\" title=\"&lt;\\u8cc7\\u8a0a\\u4eba\\u54e1A\\u8a73\\u7d30\\u8cc7\\u6599&gt;\">\\u8cc7\\u8a0a\\u4eba\\u54e1A</span></a></div>\\n</li>\\n<li>\\n<div class=\"area_summary\" itemprop=\"jobLocation\" itemscope=\"\" itemtype=\"http://schema.org/Place\">\\n<span class=\"location\" itemprop=\"address\" itemscope=\"\" itemtype=\"http://schema.org/Postaladdress\">\\n<span itemprop=\"addressLocality\">\\u57fa\\u9686\\u5e02\\u4e03\\u5835\\u5340</span>\\n</span>\\n</div>\\n</li>\\n<li>\\n<input class=\"gray apply_job\" id=\"1351591\" onclick=\"gaApply();mail_to_company('1351591','4b6f416b2a373d662f413b202f2d355e13f394224242424673c41576391j98','4200199000')\" type=\"button\" value=\"\\u6211\\u8981\\u61c9\\u5fb5\"/>\\n</li>\\n</ul>\\n<ul class=\"summary\">\\n<li><div class=\"corpimg_summary\">\\xa0</div></li>\\n<li>\\n<div class=\"compname_summary\" itemprop=\"hiringOrganization\" itemtype=\"http://schema.org/Organization\">\\n<a href=\"/jobbank/custjob/index.php?r=cust&amp;j=384a442938363e6738323b1d1d1d1d5f24437323189j56&amp;jobsource=104_bank1\" onclick=\"gaClickcust();\" target=\"_blank\"><span itemprop=\"name\" title=\"&lt;\\u516c\\u53f8\\u540d\\uff1a\\u967d\\u660e\\u6d77\\u904b\\u80a1\\u4efd\\u6709\\u9650\\u516c\\u53f8&gt;\\n&lt;\\u516c\\u53f8\\u5730\\u5740\\uff1a\\u57fa\\u9686\\u5e02\\u4e03\\u5835\\u5340\\u660e\\u5fb7\\u4e00\\u8def271\\u865f&gt;\">\\u967d\\u660e\\u6d77\\u904b\\u80a1\\u4efd\\u6709\\u9650\\u516c\\u53f8</span></a>\\n</div>\\n</li>\\n<li><div class=\"candidates_summary\">\\n<a href=\"javascript:void(0)\" onclick=\"mail_to_rptapply('4b6f416b2a373d662f413b202f2d355e13f394224242424673c41576391j98');\">0-5\\u4eba\\u61c9\\u5fb5</a>\\n</div></li>\\n</ul>\\n<div class=\"requirement\">\\u5de5\\u4f5c\\u7d93\\u6b77\\u4e0d\\u62d8\\uff0c\\u5927\\u5b78\\u5b78\\u6b77\\uff0c\\u5f85\\u9047\\u9762\\u8b70</div>\\n<div class=\"joblist_summary\" itemprop=\"description\">1.\\u8cc7\\u8a0a\\u7cfb\\u7d71\\u958b\\u767c\\u53ca\\u7dad\\u8b77\\u3002\\r\\n2.\\u958b\\u767c/\\u7dad\\u8b77Mobile App\\u65b0/\\u820a\\u529f\\u80fd \\u2013 \\u958b\\u767c\\u53ca\\u7dad\\u8b77\\u524d\\u7aefApp (iOS/Android)\\u5e73\\u53f0\\u7a0b\\u5f0f &amp; \\u5f8c\\u7aefweb service\\u7a0b\\u5f0f\\u3002</div>\\n</div>, <div class=\"j_cont line_bottom\" itemscope=\"\" itemtype=\"http://schema.org/JobPosting\">\\n<ul class=\"summary_tit\">\\n<li><div class=\"check\"><input name=\"to_cookie\" type=\"checkbox\" value=\"6845667,\"/><input name=\"orderno\" type=\"hidden\" value=\"F6845667\"/><input name=\"cookie_names\" type=\"hidden\" value=\"6845667\"/><input name=\"custno_item\" type=\"hidden\" value=\"80258993000\"/></div></li>\\n<li><div class=\"date\" itemprop=\"datePosted\">10/13</div></li>\\n<li>\\n<div class=\"jobname_summary job_name\"><a href=\"/job/?jobno=42q5f&amp;jobsource=104_bank1&amp;hotjob_chr=\" onclick=\"gaClickjob();\" target=\"_blank\"><span itemprop=\"title\" title=\"&lt;\\u624b\\u6a5fAPP\\u958b\\u767c\\u5de5\\u7a0b\\u5e2b\\u8a73\\u7d30\\u8cc7\\u6599&gt;\">\\u624b\\u6a5fAPP\\u958b\\u767c\\u5de5\\u7a0b\\u5e2b</span></a></div>\\n</li>\\n<li>\\n<div class=\"area_summary\" itemprop=\"jobLocation\" itemscope=\"\" itemtype=\"http://schema.org/Place\">\\n<span class=\"location\" itemprop=\"address\" itemscope=\"\" itemtype=\"http://schema.org/Postaladdress\">\\n<span itemprop=\"addressLocality\">\\u57fa\\u9686\\u5e02\\u4e03\\u5835\\u5340</span>\\n</span>\\n</div>\\n</li>\\n<li>\\n<input class=\"gray apply_job\" id=\"6845667\" onclick=\"gaApply();mail_to_company('6845667','534d46275d5f425934353d663b413b208614d467037394324242424213c642928654j51','80258993000')\" type=\"button\" value=\"\\u6211\\u8981\\u61c9\\u5fb5\"/>\\n</li>\\n</ul>\\n<ul class=\"summary\">\\n<li><div class=\"corpimg_summary\">\\xa0</div></li>\\n<li>\\n<div class=\"compname_summary\" itemprop=\"hiringOrganization\" itemtype=\"http://schema.org/Organization\">\\n<a href=\"/jobbank/custjob/index.php?r=cust&amp;j=444a44295a463f6930323c1d1d1d1d5f2443a363189j52&amp;jobsource=104_bank1\" onclick=\"gaClickcust();\" target=\"_blank\"><span itemprop=\"name\" title=\"&lt;\\u516c\\u53f8\\u540d\\uff1a\\u667a\\u6167\\u5149\\u79d1\\u6280\\u80a1\\u4efd\\u6709\\u9650\\u516c\\u53f8&gt;\\n&lt;\\u516c\\u53f8\\u5730\\u5740\\uff1a\\u57fa\\u9686\\u5e02\\u4e03\\u5835\\u5340\\u5de5\\u5efa\\u8def2-1\\u865f1\\u6a13&gt;\">\\u667a\\u6167\\u5149\\u79d1\\u6280\\u80a1\\u4efd\\u6709\\u9650\\u516c\\u53f8</span></a>\\n</div>\\n</li>\\n<li><div class=\"candidates_summary\">\\n<a href=\"javascript:void(0)\" onclick=\"mail_to_rptapply('534d46275d5f425934353d663b413b208614d467037394324242424213c642928654j51');\">0-5\\u4eba\\u61c9\\u5fb5</a>\\n</div></li>\\n</ul>\\n<div class=\"requirement\">1\\u5e74\\u4ee5\\u4e0a\\u5de5\\u4f5c\\u7d93\\u6b77\\uff0c\\u5c08\\u79d1\\u5b78\\u6b77\\uff0c\\u5f85\\u9047\\u9762\\u8b70</div>\\n<div class=\"joblist_summary\" itemprop=\"description\">1. \\u8ca0\\u8cacAndroid / iOS \\u624b\\u6a5fAPP\\u4e4b\\u61c9\\u7528\\u7a0b\\u5f0f\\u958b\\u767c\\u3002\\n2. \\u6709C/C++/C# \\u958b\\u767c\\u7d93\\u9a57\\uff0c\\u719f\\u6089Java\\u3001Objective-C\\u8005\\u5c24\\u4f73\\u3002\\n3. \\u719f\\u6089\\u624b\\u6a5fAPP\\u76f8\\u95dc\\u6280\\u8853\\u958b\\u767c\\u53ca\\u61c9\\u7528\\u3002\\n4. \\u7a4d...</div>\\n</div>, <div class=\"j_cont line_bottom\" itemscope=\"\" itemtype=\"http://schema.org/JobPosting\">\\n<ul class=\"summary_tit\">\\n<li><div class=\"check\"><input name=\"to_cookie\" type=\"checkbox\" value=\"5959657,\"/><input name=\"orderno\" type=\"hidden\" value=\"F5959657\"/><input name=\"cookie_names\" type=\"hidden\" value=\"5959657\"/><input name=\"custno_item\" type=\"hidden\" value=\"80258993000\"/></div></li>\\n<li><div class=\"date\" itemprop=\"datePosted\">10/13</div></li>\\n<li>\\n<div class=\"jobname_summary job_name\"><a href=\"/job/?jobno=3jqi1&amp;jobsource=104_bank1&amp;hotjob_chr=\" onclick=\"gaClickjob();\" target=\"_blank\"><span itemprop=\"title\" title=\"&lt;\\u97cc\\u9ad4\\u7814\\u767c\\u5de5\\u7a0b\\u5e2b\\u8a73\\u7d30\\u8cc7\\u6599&gt;\">\\u97cc\\u9ad4\\u7814\\u767c\\u5de5\\u7a0b\\u5e2b</span></a></div>\\n</li>\\n<li>\\n<div class=\"area_summary\" itemprop=\"jobLocation\" itemscope=\"\" itemtype=\"http://schema.org/Place\">\\n<span class=\"location\" itemprop=\"address\" itemscope=\"\" itemtype=\"http://schema.org/Postaladdress\">\\n<span itemprop=\"addressLocality\">\\u57fa\\u9686\\u5e02\\u4e03\\u5835\\u5340</span>\\n</span>\\n</div>\\n</li>\\n<li>\\n<input class=\"gray apply_job\" id=\"5959657\" onclick=\"gaApply();mail_to_company('5959657','534d47286149425934353d663b413b208614d467037394324242424203c642928654j51','80258993000')\" type=\"button\" value=\"\\u6211\\u8981\\u61c9\\u5fb5\"/>\\n</li>\\n</ul>\\n<ul class=\"summary\">\\n<li><div class=\"corpimg_summary\">\\xa0</div></li>\\n<li>\\n<div class=\"compname_summary\" itemprop=\"hiringOrganization\" itemtype=\"http://schema.org/Organization\">\\n<a href=\"/jobbank/custjob/index.php?r=cust&amp;j=444a44295a463f6930323c1d1d1d1d5f2443a363189j52&amp;jobsource=104_bank1\" onclick=\"gaClickcust();\" target=\"_blank\"><span itemprop=\"name\" title=\"&lt;\\u516c\\u53f8\\u540d\\uff1a\\u667a\\u6167\\u5149\\u79d1\\u6280\\u80a1\\u4efd\\u6709\\u9650\\u516c\\u53f8&gt;\\n&lt;\\u516c\\u53f8\\u5730\\u5740\\uff1a\\u57fa\\u9686\\u5e02\\u4e03\\u5835\\u5340\\u5de5\\u5efa\\u8def2-1\\u865f1\\u6a13&gt;\">\\u667a\\u6167\\u5149\\u79d1\\u6280\\u80a1\\u4efd\\u6709\\u9650\\u516c\\u53f8</span></a>\\n</div>\\n</li>\\n<li><div class=\"candidates_summary\">\\n<a href=\"javascript:void(0)\" onclick=\"mail_to_rptapply('534d47286149425934353d663b413b208614d467037394324242424203c642928654j51');\">0-5\\u4eba\\u61c9\\u5fb5</a>\\n</div></li>\\n</ul>\\n<div class=\"requirement\">2\\u5e74\\u4ee5\\u4e0a\\u5de5\\u4f5c\\u7d93\\u6b77\\uff0c\\u5c08\\u79d1\\u5b78\\u6b77\\uff0c\\u5f85\\u9047\\u9762\\u8b70</div>\\n<div class=\"joblist_summary\" itemprop=\"description\">\\u5168\\u8077\\u3002\\u719fC++, 6502 Assembly</div>\\n</div>, <div class=\"j_cont\" itemscope=\"\" itemtype=\"http://schema.org/JobPosting\">\\n<ul class=\"summary_tit\">\\n<li><div class=\"check\"><input name=\"to_cookie\" type=\"checkbox\" value=\"8603185,\"/><input name=\"orderno\" type=\"hidden\" value=\"F8603185\"/><input name=\"cookie_names\" type=\"hidden\" value=\"8603185\"/><input name=\"custno_item\" type=\"hidden\" value=\"519807000\"/></div></li>\\n<li><div class=\"date\" itemprop=\"datePosted\">10/06</div></li>\\n<li>\\n<div class=\"jobname_summary job_name\"><a href=\"/job/?jobno=54e9d&amp;jobsource=104_bank1&amp;hotjob_chr=\" onclick=\"gaClickjob();\" target=\"_blank\"><span itemprop=\"title\" title=\"&lt;\\u8cc7\\u8a0a\\u8b77\\u7406\\u5e2b\\u8a73\\u7d30\\u8cc7\\u6599&gt;\">\\u8cc7\\u8a0a\\u8b77\\u7406\\u5e2b</span></a></div>\\n</li>\\n<li>\\n<div class=\"area_summary\" itemprop=\"jobLocation\" itemscope=\"\" itemtype=\"http://schema.org/Place\">\\n<span class=\"location\" itemprop=\"address\" itemscope=\"\" itemtype=\"http://schema.org/Postaladdress\">\\n<span itemprop=\"addressLocality\">\\u57fa\\u9686\\u5e02\\u4fe1\\u7fa9\\u5340</span>\\n</span>\\n</div>\\n</li>\\n<li>\\n<input class=\"gray apply_job\" id=\"8603185\" onclick=\"gaApply();mail_to_company('8603185','493f472b5f714e6c35373f2431333d220414f482a2a2a2a6d4337472e31j57','519807000')\" type=\"button\" value=\"\\u6211\\u8981\\u61c9\\u5fb5\"/>\\n</li>\\n</ul>\\n<ul class=\"summary\">\\n<li><div class=\"corpimg_summary\">\\xa0</div></li>\\n<li>\\n<div class=\"compname_summary\" itemprop=\"hiringOrganization\" itemtype=\"http://schema.org/Organization\">\\n<a href=\"/jobbank/custjob/index.php?r=cust&amp;j=383a442938463f212121211f382e2a5f280j56&amp;jobsource=104_bank1\" onclick=\"gaClickcust();\" target=\"_blank\"><span itemprop=\"name\" title=\"&lt;\\u516c\\u53f8\\u540d\\uff1a\\u885b\\u751f\\u798f\\u5229\\u90e8\\u57fa\\u9686\\u91ab\\u9662&gt;\\n&lt;\\u516c\\u53f8\\u5730\\u5740\\uff1a\\u57fa\\u9686\\u5e02\\u4fe1\\u7fa9\\u5340\\u4fe1\\u4e8c\\u8def268\\u865f&gt;\">\\u885b\\u751f\\u798f\\u5229\\u90e8\\u57fa\\u9686\\u91ab\\u9662</span></a>\\n</div>\\n</li>\\n<li><div class=\"candidates_summary\">\\n<a href=\"javascript:void(0)\" onclick=\"mail_to_rptapply('493f472b5f714e6c35373f2431333d220414f482a2a2a2a6d4337472e31j57');\">0-5\\u4eba\\u61c9\\u5fb5</a>\\n</div></li>\\n</ul>\\n<div class=\"requirement\">3\\u5e74\\u4ee5\\u4e0a\\u5de5\\u4f5c\\u7d93\\u6b77\\uff0c\\u5c08\\u79d1\\u5b78\\u6b77\\uff0c\\u5f85\\u9047\\u9762\\u8b70</div>\\n<div class=\"joblist_summary\" itemprop=\"description\">\\u8b77\\u7406\\u8cc7\\u8a0a\\u7ba1\\u7406\\uff0c\\u9700\\u8b77\\u7406\\u5e2b\\u8b49\\u66f8\\u4e14\\u8cc7\\u8a0a\\u9577\\u624d\\u8005\\u70ba\\u4f73</div>\\n</div>]\n"
     ]
    }
   ],
   "source": [
    "soup_3 = BeautifulSoup(r.get(URL_Taipei).text,'lxml')\n",
    "jobs_list = soup_3.select('.j_cont')\n",
    "\n",
    "print jobs_list"
   ]
  },
  {
   "cell_type": "code",
   "execution_count": 58,
   "metadata": {
    "collapsed": false
   },
   "outputs": [
    {
     "name": "stdout",
     "output_type": "stream",
     "text": [
      "[<div class=\"requirement\">3\\u5e74\\u4ee5\\u4e0a\\u5de5\\u4f5c\\u7d93\\u6b77\\uff0c\\u5927\\u5b78\\u5b78\\u6b77\\uff0c\\u5f85\\u9047\\u9762\\u8b70</div>]\n",
      "[<div class=\"requirement\">3\\u5e74\\u4ee5\\u4e0a\\u5de5\\u4f5c\\u7d93\\u6b77\\uff0c\\u5c08\\u79d1\\u5b78\\u6b77\\uff0c\\u5f85\\u9047\\u9762\\u8b70</div>]\n",
      "[<div class=\"requirement\">1\\u5e74\\u4ee5\\u4e0a\\u5de5\\u4f5c\\u7d93\\u6b77\\uff0c\\u5c08\\u79d1\\u5b78\\u6b77\\uff0c\\u5f85\\u9047\\u9762\\u8b70</div>]\n",
      "[<div class=\"requirement\">\\u5de5\\u4f5c\\u7d93\\u6b77\\u4e0d\\u62d8\\uff0c\\u5c08\\u79d1\\u5b78\\u6b77\\uff0c\\u5f85\\u9047\\u9762\\u8b70</div>]\n",
      "[<div class=\"requirement\">1\\u5e74\\u4ee5\\u4e0a\\u5de5\\u4f5c\\u7d93\\u6b77\\uff0c\\u5c08\\u79d1\\u5b78\\u6b77\\uff0c\\u5f85\\u9047\\u9762\\u8b70</div>]\n",
      "[<div class=\"requirement\">\\u5de5\\u4f5c\\u7d93\\u6b77\\u4e0d\\u62d8\\uff0c\\u5927\\u5b78\\u5b78\\u6b77\\uff0c\\u5f85\\u9047\\u9762\\u8b70</div>]\n",
      "[<div class=\"requirement\">1\\u5e74\\u4ee5\\u4e0a\\u5de5\\u4f5c\\u7d93\\u6b77\\uff0c\\u5c08\\u79d1\\u5b78\\u6b77\\uff0c\\u5f85\\u9047\\u9762\\u8b70</div>]\n",
      "[<div class=\"requirement\">\\u5de5\\u4f5c\\u7d93\\u6b77\\u4e0d\\u62d8\\uff0c\\u5927\\u5b78\\u5b78\\u6b77\\uff0c\\u5f85\\u9047\\u9762\\u8b70</div>]\n",
      "[<div class=\"requirement\">1\\u5e74\\u4ee5\\u4e0a\\u5de5\\u4f5c\\u7d93\\u6b77\\uff0c\\u5c08\\u79d1\\u5b78\\u6b77\\uff0c\\u5f85\\u9047\\u9762\\u8b70</div>]\n",
      "[<div class=\"requirement\">2\\u5e74\\u4ee5\\u4e0a\\u5de5\\u4f5c\\u7d93\\u6b77\\uff0c\\u5c08\\u79d1\\u5b78\\u6b77\\uff0c\\u5f85\\u9047\\u9762\\u8b70</div>]\n",
      "[<div class=\"requirement\">3\\u5e74\\u4ee5\\u4e0a\\u5de5\\u4f5c\\u7d93\\u6b77\\uff0c\\u5c08\\u79d1\\u5b78\\u6b77\\uff0c\\u5f85\\u9047\\u9762\\u8b70</div>]\n"
     ]
    }
   ],
   "source": [
    "dict = {}\n",
    "for a in jobs_list:\n",
    "    dict['requirement'] = a.select('.requirement')\n",
    "    print dict['requirement']"
   ]
  },
  {
   "cell_type": "code",
   "execution_count": null,
   "metadata": {
    "collapsed": true
   },
   "outputs": [],
   "source": []
  }
 ],
 "metadata": {
  "anaconda-cloud": {},
  "kernelspec": {
   "display_name": "Python [default]",
   "language": "python",
   "name": "python2"
  },
  "language_info": {
   "codemirror_mode": {
    "name": "ipython",
    "version": 2
   },
   "file_extension": ".py",
   "mimetype": "text/x-python",
   "name": "python",
   "nbconvert_exporter": "python",
   "pygments_lexer": "ipython2",
   "version": "2.7.12"
  }
 },
 "nbformat": 4,
 "nbformat_minor": 1
}
