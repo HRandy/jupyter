{
 "cells": [
  {
   "cell_type": "code",
   "execution_count": 2,
   "metadata": {
    "collapsed": true
   },
   "outputs": [],
   "source": [
    "import requests as r"
   ]
  },
  {
   "cell_type": "code",
   "execution_count": 3,
   "metadata": {
    "collapsed": true
   },
   "outputs": [],
   "source": [
    "URL='https://www.ptt.cc/hotboard.html'\n",
    "res=r.get(URL)"
   ]
  },
  {
   "cell_type": "code",
   "execution_count": 4,
   "metadata": {
    "collapsed": false
   },
   "outputs": [
    {
     "data": {
      "text/plain": [
       "requests.models.Response"
      ]
     },
     "execution_count": 4,
     "metadata": {},
     "output_type": "execute_result"
    }
   ],
   "source": [
    "type(res)"
   ]
  },
  {
   "cell_type": "code",
   "execution_count": 5,
   "metadata": {
    "collapsed": false
   },
   "outputs": [
    {
     "data": {
      "text/plain": [
       "<module 'requests' from 'C:\\Users\\BIG DATA\\Anaconda2\\lib\\site-packages\\requests\\__init__.pyc'>"
      ]
     },
     "execution_count": 5,
     "metadata": {},
     "output_type": "execute_result"
    }
   ],
   "source": [
    "r"
   ]
  },
  {
   "cell_type": "code",
   "execution_count": 6,
   "metadata": {
    "collapsed": false
   },
   "outputs": [
    {
     "data": {
      "text/plain": [
       "<Response [200]>"
      ]
     },
     "execution_count": 6,
     "metadata": {},
     "output_type": "execute_result"
    }
   ],
   "source": [
    "res"
   ]
  },
  {
   "cell_type": "code",
   "execution_count": 7,
   "metadata": {
    "collapsed": false
   },
   "outputs": [],
   "source": [
    "res.encoding='Big5'"
   ]
  },
  {
   "cell_type": "code",
   "execution_count": 8,
   "metadata": {
    "collapsed": false
   },
   "outputs": [],
   "source": [
    "with open('res.text','w')as f:\n",
    "    f.write(res.text.encode('utf-8'))"
   ]
  },
  {
   "cell_type": "code",
   "execution_count": 9,
   "metadata": {
    "collapsed": true
   },
   "outputs": [],
   "source": [
    "from bs4 import BeautifulSoup"
   ]
  },
  {
   "cell_type": "code",
   "execution_count": 10,
   "metadata": {
    "collapsed": false
   },
   "outputs": [
    {
     "data": {
      "text/plain": [
       "<Response [200]>"
      ]
     },
     "execution_count": 10,
     "metadata": {},
     "output_type": "execute_result"
    }
   ],
   "source": [
    "res"
   ]
  },
  {
   "cell_type": "code",
   "execution_count": 11,
   "metadata": {
    "collapsed": false
   },
   "outputs": [],
   "source": [
    "soup=BeautifulSoup(res.text,'lxml')"
   ]
  },
  {
   "cell_type": "code",
   "execution_count": 12,
   "metadata": {
    "collapsed": false
   },
   "outputs": [
    {
     "data": {
      "text/plain": [
       "bs4.BeautifulSoup"
      ]
     },
     "execution_count": 12,
     "metadata": {},
     "output_type": "execute_result"
    }
   ],
   "source": [
    "type(soup)"
   ]
  },
  {
   "cell_type": "code",
   "execution_count": 13,
   "metadata": {
    "collapsed": false
   },
   "outputs": [],
   "source": [
    "article_list=soup.select('dd')"
   ]
  },
  {
   "cell_type": "code",
   "execution_count": 14,
   "metadata": {
    "collapsed": false
   },
   "outputs": [
    {
     "name": "stdout",
     "output_type": "stream",
     "text": [
      "人氣：13140 Gossiping 八卦板\n",
      "人氣：3842 NBA [NBA ] 2016-17 NBA開打! (有賭盤\n",
      "人氣：3264 Baseball [棒球] 小熊今年真的拿冠軍!!\n",
      "人氣：1852 LoL [LoL] 永遠不要低估一顆冠軍的心\n",
      "人氣：1843 C_Chat [希洽] 開噓記名公投(請重投)\n",
      "人氣：1768 WomenTalk 【女孩板】發文前先看置底公告\n",
      "人氣：1203 Stock [股板] 樂陞文管制條款請見置底\n",
      "人氣：1126 marvel [媽佛] 電話裡的他到底是誰....??\n",
      "人氣：1096 MobileComm [手機板]\n",
      "人氣：1004 PokemonGO [PMGO] 連道館都搬家惹!Σ(°⑸°\n",
      "人氣：999 movie [電影] movie 金馬獎賭盤\n",
      "人氣：848 Tech_Job [科技] 工作之餘也多關心七天假\n",
      "人氣：830 Boy-Girl [男女] 文章內要有男女點\n",
      "人氣：676 BabyMother [媽寶] 歡迎新板主meles+新版規\n",
      "人氣：643 car [汽車] 心得徵文活動中，歡迎投稿\n",
      "人氣：626 MLB WS Champ is worth waiting for. \n",
      "人氣：616 WOW [WoW] Blizzcon虛擬門票贈票抽獎\n",
      "人氣：610 e-shopping [ＥＳ] 冬天要來了（*′_●`）y\n",
      "人氣：603 BuyTogether [合購] 板主徵求中，快來應徵吧！\n",
      "人氣：579 Japan_Travel ITF台北國際旅展資訊已出請參閱\n",
      "人氣：538 joke           ＝ joke ＝\n",
      "人氣：493 Beauty 《表特板》帥哥美女板-不要偷拍\n",
      "人氣：475 marriage [婚姻] 板主招募中~\n",
      "人氣：436 KoreaDrama [韓劇] 步步今天關心您！！\n",
      "人氣：430 StupidClown 抱歉啊年輕人\n",
      "人氣：424 Hearthstone [爐石] 置底Blizzcon賭盤(f)\n",
      "人氣：402 MakeUp [美妝] 掏錢買單？只有自己能決定\n",
      "人氣：384 Japandrama [日劇] 嬌妻熱烈洗板中\n",
      "人氣：379 KoreaStar [韓星] 綜星閃耀徵文 10/14 開始!\n",
      "人氣：358 Lifeismoney [省錢] Show me the money!\n",
      "人氣：349 PC_Shopping [電蝦] 下一個戰場 11/11..\n",
      "人氣：339 PlayStation [PS4] 內褲文請保留置頂警示\n",
      "人氣：336 AllTogether [歐兔] 眼緣是一種通靈的境界!\n",
      "人氣：316 iPhone [iOS] 新鮮的蘋果低溫運送錯了嗎\n",
      "人氣：313 Tainan [台南板] 56板主上任滿意度調查\n",
      "人氣：299 NBA_Film 2016 Champ: Cleveland Cavaliers\n",
      "人氣：298 creditcard 發文前請先爬文 避免誤觸板規\n",
      "人氣：295 Kaohsiung [高雄] 沒高雄點不要發\n",
      "人氣：287 TWICE [TWICE] TT MV點閱3000萬粗咖！\n"
     ]
    }
   ],
   "source": [
    "for a in article_list:\n",
    "    b = a.select('td')[0].text\n",
    "    c = a.select('td')[1].text\n",
    "    d = a.select('td')[2].text\n",
    "    print b,c,d"
   ]
  },
  {
   "cell_type": "code",
   "execution_count": 15,
   "metadata": {
    "collapsed": false
   },
   "outputs": [
    {
     "name": "stdout",
     "output_type": "stream",
     "text": [
      "人氣：287 TWICE [TWICE] TT MV點閱3000萬粗咖！\n"
     ]
    }
   ],
   "source": [
    "print b,c,d"
   ]
  },
  {
   "cell_type": "code",
   "execution_count": null,
   "metadata": {
    "collapsed": true
   },
   "outputs": [],
   "source": []
  }
 ],
 "metadata": {
  "kernelspec": {
   "display_name": "Python [default]",
   "language": "python",
   "name": "python2"
  },
  "language_info": {
   "codemirror_mode": {
    "name": "ipython",
    "version": 2
   },
   "file_extension": ".py",
   "mimetype": "text/x-python",
   "name": "python",
   "nbconvert_exporter": "python",
   "pygments_lexer": "ipython2",
   "version": "2.7.12"
  }
 },
 "nbformat": 4,
 "nbformat_minor": 1
}
