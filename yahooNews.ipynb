{
 "cells": [
  {
   "cell_type": "code",
   "execution_count": 43,
   "metadata": {
    "collapsed": false
   },
   "outputs": [],
   "source": [
    "import requests as r\n",
    "from bs4 import BeautifulSoup\n",
    "page_url='https://tw.news.yahoo.com/archive/{}'\n",
    "p1__url = r.get(page_url.format('1.html'))\n",
    "soup = BeautifulSoup(p1__url.text,'lxml')\n",
    "news_p1_all_list = soup.select('.bd')"
   ]
  },
  {
   "cell_type": "code",
   "execution_count": 44,
   "metadata": {
    "collapsed": false
   },
   "outputs": [
    {
     "name": "stdout",
     "output_type": "stream",
     "text": [
      "None\n",
      "None\n",
      "<div class=\"txt\"><h4><a alt=\"男開車身體不適  撞上總統府前燈桿\" href=\"/男開車身體不適--撞上總統府前燈桿-130845742.html\" mapleultparams=\"pkg=c243f959-3bbb-3580-9c79-a005ae6c8595;ver=61130e62-ae59-11e6-a9e7-e84a68b157de;pos=1\" target=\"\">男開車身體不適  撞上總統府前燈桿</a></h4><cite>Yahoo奇摩（即時新聞） - 2016年11月19日 下午9:08</cite><p>總統府發言人黃重諺說，今晚8時左右，一位年約68歲的老先生，疑因血壓的問題，身體不適，駕車撞上總統府前路燈桿，府方已協助送和平醫院。 <a class=\"more\" href=\"/男開車身體不適--撞上總統府前燈桿-130845742.html\" mapleultparams=\"pkg=c243f959-3bbb-3580-9c79-a005ae6c8595;ver=61130e62-ae59-11e6-a9e7-e84a68b157de;pos=1\">詳全文 »<span>男開車身體不適  撞上總統府前燈桿</span></a></p></div>\n",
      "None\n",
      "<div class=\"txt\"><a class=\"title \" href=\"/臉書就是狂-明年擲2000億救市-062200921--finance.html\" mapleultparams=\"pkg=5329b005-8780-3df5-b09e-9761c83bb357;ver=f1815fb1-ae3b-11e6-b94e-b17c15a308ae;lt=i;pos=1\">臉書就是狂 明年砸2千億救市</a></div>\n",
      "<div class=\"txt\"><h4><a class=\"title \" href=\"/video/女控旅行社-回傳刷卡單遭盜刷3萬-121900096.html\" mapleultparams=\"pkg=13244498-5c63-3e10-95de-c69a527bc940;lt=i;pos=1\">女控旅行社 回傳刷卡單遭盜刷3萬</a></h4><p class=\"description\">女控旅行社 回傳刷卡單遭盜刷3萬 <a class=\"more\" href=\"/video/女控旅行社-回傳刷卡單遭盜刷3萬-121900096.html\" mapleultparams=\"lt=s\" tabindex=\"-1\">詳全文 »</a></p><cite><span class=\"provider\">民視影音</span> - <abbr title=\"2016-11-19T12:19:00Z\">2016年11月19日 下午8:19</abbr></cite></div>\n",
      "None\n",
      "None\n",
      "None\n",
      "None\n"
     ]
    }
   ],
   "source": [
    "\n",
    "for a in news_p1_all_list:\n",
    "    news_p1_one_list = a.select_one('.txt')\n",
    "    print news_p1_one_list\n",
    "\n",
    "  \n",
    "\n",
    "\n",
    "\n",
    "\n",
    "dict={}\n",
    "\n",
    "    \n",
    "\n",
    "\n"
   ]
  },
  {
   "cell_type": "code",
   "execution_count": null,
   "metadata": {
    "collapsed": true
   },
   "outputs": [],
   "source": []
  }
 ],
 "metadata": {
  "anaconda-cloud": {},
  "kernelspec": {
   "display_name": "Python [default]",
   "language": "python",
   "name": "python2"
  },
  "language_info": {
   "codemirror_mode": {
    "name": "ipython",
    "version": 2
   },
   "file_extension": ".py",
   "mimetype": "text/x-python",
   "name": "python",
   "nbconvert_exporter": "python",
   "pygments_lexer": "ipython2",
   "version": "2.7.12"
  }
 },
 "nbformat": 4,
 "nbformat_minor": 1
}
