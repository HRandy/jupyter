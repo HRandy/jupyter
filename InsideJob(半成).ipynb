{
 "cells": [
  {
   "cell_type": "code",
   "execution_count": 1,
   "metadata": {
    "collapsed": false
   },
   "outputs": [],
   "source": [
    "import requests as r\n",
    "url='https://jobs.inside.com.tw/jobs/index?p={}'\n"
   ]
  },
  {
   "cell_type": "code",
   "execution_count": 2,
   "metadata": {
    "collapsed": false
   },
   "outputs": [
    {
     "name": "stdout",
     "output_type": "stream",
     "text": [
      "https://jobs.inside.com.tw/jobs/23281-%E9%A6%99%E8%95%89%E6%9C%83%E5%85%92%E8%A8%AD%E8%A8%88%E6%9C%89%E9%99%90%E5%85%AC%E5%8F%B8\n",
      "香蕉會兒設計有限公司\n",
      " 台北市大安區\n",
      "JavaScript Developer\n",
      "================\n",
      "https://jobs.inside.com.tw/jobs/23281-%E9%A6%99%E8%95%89%E6%9C%83%E5%85%92%E8%A8%AD%E8%A8%88%E6%9C%89%E9%99%90%E5%85%AC%E5%8F%B8\n",
      "香蕉會兒設計有限公司\n",
      " 台北市大安區\n",
      "JavaScript Developer\n",
      "================\n"
     ]
    },
    {
     "ename": "TypeError",
     "evalue": "'NoneType' object has no attribute '__getitem__'",
     "output_type": "error",
     "traceback": [
      "\u001b[0;31m---------------------------------------------------------------------------\u001b[0m",
      "\u001b[0;31mTypeError\u001b[0m                                 Traceback (most recent call last)",
      "\u001b[0;32m<ipython-input-2-374260fa55a6>\u001b[0m in \u001b[0;36m<module>\u001b[0;34m()\u001b[0m\n\u001b[1;32m     12\u001b[0m             \u001b[0mjob_dict\u001b[0m\u001b[1;33m[\u001b[0m\u001b[1;34m'location'\u001b[0m\u001b[1;33m]\u001b[0m \u001b[1;33m=\u001b[0m \u001b[0mjob\u001b[0m\u001b[1;33m.\u001b[0m\u001b[0mselect_one\u001b[0m\u001b[1;33m(\u001b[0m\u001b[1;34m'.location'\u001b[0m\u001b[1;33m)\u001b[0m\u001b[1;33m.\u001b[0m\u001b[0mtext\u001b[0m\u001b[1;33m\u001b[0m\u001b[0m\n\u001b[1;32m     13\u001b[0m \u001b[1;33m\u001b[0m\u001b[0m\n\u001b[0;32m---> 14\u001b[0;31m             \u001b[0mjob_dict\u001b[0m\u001b[1;33m[\u001b[0m\u001b[1;34m'content'\u001b[0m\u001b[1;33m]\u001b[0m \u001b[1;33m=\u001b[0m \u001b[0mjob\u001b[0m\u001b[1;33m.\u001b[0m\u001b[0mselect_one\u001b[0m\u001b[1;33m(\u001b[0m\u001b[1;34m'a'\u001b[0m\u001b[1;33m)\u001b[0m\u001b[1;33m[\u001b[0m\u001b[1;34m'href'\u001b[0m\u001b[1;33m]\u001b[0m\u001b[1;33m\u001b[0m\u001b[0m\n\u001b[0m\u001b[1;32m     15\u001b[0m             \u001b[0mjob_url\u001b[0m \u001b[1;33m=\u001b[0m \u001b[0mr\u001b[0m\u001b[1;33m.\u001b[0m\u001b[0mget\u001b[0m\u001b[1;33m(\u001b[0m\u001b[0mjob\u001b[0m\u001b[1;33m.\u001b[0m\u001b[0mselect_one\u001b[0m\u001b[1;33m(\u001b[0m\u001b[1;34m'a'\u001b[0m\u001b[1;33m)\u001b[0m\u001b[1;33m[\u001b[0m\u001b[1;34m'href'\u001b[0m\u001b[1;33m]\u001b[0m\u001b[1;33m)\u001b[0m\u001b[1;33m\u001b[0m\u001b[0m\n\u001b[1;32m     16\u001b[0m             \u001b[0msoup_2\u001b[0m \u001b[1;33m=\u001b[0m \u001b[0mBeautifulSoup\u001b[0m\u001b[1;33m(\u001b[0m\u001b[0mjob_url\u001b[0m\u001b[1;33m.\u001b[0m\u001b[0mtext\u001b[0m\u001b[1;33m,\u001b[0m\u001b[1;34m'lxml'\u001b[0m\u001b[1;33m)\u001b[0m\u001b[1;33m\u001b[0m\u001b[0m\n",
      "\u001b[0;31mTypeError\u001b[0m: 'NoneType' object has no attribute '__getitem__'"
     ]
    }
   ],
   "source": [
    "for pages in range(1,2):\n",
    "    job=r.get(url.format(pages))\n",
    "    from bs4 import BeautifulSoup\n",
    "    soup=BeautifulSoup(job.text,'lxml')\n",
    "    job_list=soup.select('.row')\n",
    "\n",
    "    for job in  job_list:\n",
    "      \n",
    "            job_dict={}\n",
    "            job_dict['title']  =job.select_one('h4').text\n",
    "            job_dict['company'] = job.select_one('.company_name').text\n",
    "            job_dict['location'] = job.select_one('.location').text\n",
    "            \n",
    "            job_dict['content'] = job.select_one('a')['href']\n",
    "            job_url = r.get(job.select_one('a')['href'])\n",
    "            soup_2 = BeautifulSoup(job_url.text,'lxml')\n",
    "#             print  job_dict['content']\n",
    "        \n",
    "            for k in job_dict:\n",
    "                print job_dict[k]\n",
    "            print '================'\n",
    "        \n",
    "     "
   ]
  },
  {
   "cell_type": "code",
   "execution_count": null,
   "metadata": {
    "collapsed": false
   },
   "outputs": [],
   "source": [
    "import requests as r\n",
    "url='https://jobs.inside.com.tw/jobs/index?p={}'\n",
    "\n",
    "#抓頁數\n",
    "for pages in range(1,2):\n",
    "    job=r.get(url.format(pages))\n",
    "    from bs4 import BeautifulSoup\n",
    "    soup=BeautifulSoup(job.text,'lxml')\n",
    "    \n",
    "    job_list = soup.select('.col-sm-9')\n",
    "\n",
    "    \n",
    "#抓表列\n",
    "    for i in job_list:\n",
    "\n",
    "            job_dict={}\n",
    "            \n",
    "            job_dict['title']  = i.select('.list-group-item-heading') #大標題\n",
    "            print job_dict['title']\n",
    "            \n",
    "            job_dict['company']  = i.select('p.company_name') #公司名\n",
    "#             print  job_dict['title']\n",
    "           \n",
    "            content_url = i.select('a')['href']\n",
    "            print  content_url\n",
    "            \n",
    "            soup_content_list = BeautifulSoup(r.get(content_url).text,'lxml')#公司職缺頁\n",
    "            content_list = soup_content_list.select('.col-sm-8')\n",
    "\n",
    "\n",
    "#抓頁面\n",
    "            for  contents in  content_list:\n",
    "\n",
    "                job_type = contents.select('p')[0].text.strip()\n",
    "                job_dict['type'] = job_type\n",
    "\n",
    "                job_location = contents.select('p')[1].text.strip()\n",
    "                job_dict['location'] = job_location\n",
    "\n",
    "                job_pay = contents.select('p')[2].text.strip()\n",
    "                job_dict['pay'] = job_pay\n",
    "\n",
    "                job_dday = contents.select('p')[4].text.strip().split(':')\n",
    "                job_dict['dday'] = job_dday\n",
    "\n",
    "\n",
    "#                 print job_dict['title']\n",
    "#                 print job_dict['company']\n",
    "#                 print job_dict['type']\n",
    "#                 print job_dict['location']\n",
    "#                 print job_dict['pay']\n",
    "#                 print job_dict['dday']\n",
    "                print '==================='\n",
    "\n",
    "            \n",
    "            \n",
    "\n",
    "        \n"
   ]
  },
  {
   "cell_type": "code",
   "execution_count": null,
   "metadata": {
    "collapsed": true
   },
   "outputs": [],
   "source": [
    "# #             job_dict['content'] = BeautifulSoup(r.get(job_url.text),'lxml')"
   ]
  },
  {
   "cell_type": "code",
   "execution_count": null,
   "metadata": {
    "collapsed": false
   },
   "outputs": [],
   "source": [
    "import requests as r\n",
    "url='https://jobs.inside.com.tw/jobs/index?p={}'\n",
    "\n",
    "#測試抓前2頁\n",
    "for pages in range(1,2):\n",
    "    job=r.get(url.format(pages))\n",
    "    from bs4 import BeautifulSoup\n",
    "    soup=BeautifulSoup(job.text,'lxml')\n",
    "    \n",
    "    jobs = soup.select_one('.col-sm-9')\n",
    "    job_title = jobs.select('.list-group-item-heading')\n",
    "    \n",
    "    \n",
    "    for i in jobs:\n",
    "           \n",
    "            dict = {}\n",
    "            job_url = jobs.select('a')['href']\n",
    "            dict['job_url'] = job_url\n",
    "            print dict['job_url']\n",
    "      "
   ]
  },
  {
   "cell_type": "code",
   "execution_count": null,
   "metadata": {
    "collapsed": true
   },
   "outputs": [],
   "source": []
  }
 ],
 "metadata": {
  "anaconda-cloud": {},
  "kernelspec": {
   "display_name": "Python [default]",
   "language": "python",
   "name": "python2"
  },
  "language_info": {
   "codemirror_mode": {
    "name": "ipython",
    "version": 2
   },
   "file_extension": ".py",
   "mimetype": "text/x-python",
   "name": "python",
   "nbconvert_exporter": "python",
   "pygments_lexer": "ipython2",
   "version": "2.7.12"
  }
 },
 "nbformat": 4,
 "nbformat_minor": 1
}
