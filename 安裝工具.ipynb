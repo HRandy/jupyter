{
 "cells": [
  {
   "cell_type": "code",
   "execution_count": null,
   "metadata": {
    "collapsed": true
   },
   "outputs": [],
   "source": [
    "启动浏览器"
   ]
  },
  {
   "cell_type": "code",
   "execution_count": 1,
   "metadata": {
    "collapsed": false
   },
   "outputs": [
    {
     "ename": "ImportError",
     "evalue": "No module named selenium",
     "output_type": "error",
     "traceback": [
      "\u001b[0;31m---------------------------------------------------------------------------\u001b[0m",
      "\u001b[0;31mImportError\u001b[0m                               Traceback (most recent call last)",
      "\u001b[0;32m<ipython-input-1-52df85fe1e84>\u001b[0m in \u001b[0;36m<module>\u001b[0;34m()\u001b[0m\n\u001b[0;32m----> 1\u001b[0;31m \u001b[1;32mfrom\u001b[0m \u001b[0mselenium\u001b[0m \u001b[1;32mimport\u001b[0m \u001b[0mwebdriver\u001b[0m\u001b[1;33m\u001b[0m\u001b[0m\n\u001b[0m\u001b[1;32m      2\u001b[0m \u001b[1;33m\u001b[0m\u001b[0m\n\u001b[1;32m      3\u001b[0m \u001b[0mdr\u001b[0m \u001b[1;33m=\u001b[0m \u001b[0mwebdriver\u001b[0m\u001b[1;33m.\u001b[0m\u001b[0mChrome\u001b[0m\u001b[1;33m(\u001b[0m\u001b[1;33m)\u001b[0m\u001b[1;33m\u001b[0m\u001b[0m\n",
      "\u001b[0;31mImportError\u001b[0m: No module named selenium"
     ]
    }
   ],
   "source": [
    "from selenium import webdriver\n",
    "\n",
    "dr = webdriver.Chrome()"
   ]
  },
  {
   "cell_type": "code",
   "execution_count": 2,
   "metadata": {
    "collapsed": false
   },
   "outputs": [
    {
     "name": "stdout",
     "output_type": "stream",
     "text": [
      "Collecting https://github.com/ipython-contrib/jupyter_contrib_nbextensions/tarball/master\n",
      "  Downloading https://github.com/ipython-contrib/jupyter_contrib_nbextensions/tarball/master (12.8MB)\n",
      "Requirement already satisfied (use --upgrade to upgrade): ipython_genutils in c:\\users\\randy\\anaconda2\\lib\\site-packages (from jupyter-contrib-nbextensions==0.2.1)\n",
      "Collecting jupyter_contrib_core>=0.3 (from jupyter-contrib-nbextensions==0.2.1)\n",
      "  Downloading jupyter_contrib_core-0.3.0-py2.py3-none-any.whl\n",
      "Requirement already satisfied (use --upgrade to upgrade): jupyter_core in c:\\users\\randy\\anaconda2\\lib\\site-packages (from jupyter-contrib-nbextensions==0.2.1)\n",
      "Collecting jupyter_nbextensions_configurator (from jupyter-contrib-nbextensions==0.2.1)\n",
      "  Downloading jupyter_nbextensions_configurator-0.2.2-py2.py3-none-any.whl (547kB)\n",
      "Requirement already satisfied (use --upgrade to upgrade): nbconvert in c:\\users\\randy\\anaconda2\\lib\\site-packages (from jupyter-contrib-nbextensions==0.2.1)\n",
      "Requirement already satisfied (use --upgrade to upgrade): notebook>=4.0 in c:\\users\\randy\\anaconda2\\lib\\site-packages (from jupyter-contrib-nbextensions==0.2.1)\n",
      "Requirement already satisfied (use --upgrade to upgrade): psutil>=2.2.1 in c:\\users\\randy\\anaconda2\\lib\\site-packages (from jupyter-contrib-nbextensions==0.2.1)\n",
      "Requirement already satisfied (use --upgrade to upgrade): pyyaml in c:\\users\\randy\\anaconda2\\lib\\site-packages (from jupyter-contrib-nbextensions==0.2.1)\n",
      "Requirement already satisfied (use --upgrade to upgrade): tornado in c:\\users\\randy\\anaconda2\\lib\\site-packages (from jupyter-contrib-nbextensions==0.2.1)\n",
      "Requirement already satisfied (use --upgrade to upgrade): traitlets in c:\\users\\randy\\anaconda2\\lib\\site-packages (from jupyter-contrib-nbextensions==0.2.1)\n",
      "Requirement already satisfied (use --upgrade to upgrade): setuptools in c:\\users\\randy\\anaconda2\\lib\\site-packages\\setuptools-27.2.0-py2.7.egg (from jupyter_contrib_core>=0.3->jupyter-contrib-nbextensions==0.2.1)\n",
      "Installing collected packages: jupyter-contrib-core, jupyter-nbextensions-configurator, jupyter-contrib-nbextensions\n",
      "  Running setup.py install for jupyter-contrib-nbextensions: started\n",
      "    Running setup.py install for jupyter-contrib-nbextensions: finished with status 'done'\n",
      "Successfully installed jupyter-contrib-core-0.3.0 jupyter-contrib-nbextensions-0.2.1 jupyter-nbextensions-configurator-0.2.2\n"
     ]
    },
    {
     "name": "stderr",
     "output_type": "stream",
     "text": [
      "You are using pip version 8.1.2, however version 9.0.0 is available.\n",
      "You should consider upgrading via the 'python -m pip install --upgrade pip' command.\n"
     ]
    }
   ],
   "source": [
    "!pip install https://github.com/ipython-contrib/jupyter_contrib_nbextensions/tarball/master\n"
   ]
  },
  {
   "cell_type": "code",
   "execution_count": 3,
   "metadata": {
    "collapsed": false
   },
   "outputs": [
    {
     "name": "stdout",
     "output_type": "stream",
     "text": [
      "Collecting webdriver\n"
     ]
    },
    {
     "name": "stderr",
     "output_type": "stream",
     "text": [
      "  Could not find a version that satisfies the requirement webdriver (from versions: )\n",
      "No matching distribution found for webdriver\n",
      "You are using pip version 8.1.2, however version 9.0.0 is available.\n",
      "You should consider upgrading via the 'python -m pip install --upgrade pip' command.\n"
     ]
    }
   ],
   "source": [
    "!pip install webdriver"
   ]
  },
  {
   "cell_type": "code",
   "execution_count": null,
   "metadata": {
    "collapsed": true
   },
   "outputs": [],
   "source": []
  }
 ],
 "metadata": {
  "anaconda-cloud": {},
  "kernelspec": {
   "display_name": "Python [default]",
   "language": "python",
   "name": "python2"
  },
  "language_info": {
   "codemirror_mode": {
    "name": "ipython",
    "version": 2
   },
   "file_extension": ".py",
   "mimetype": "text/x-python",
   "name": "python",
   "nbconvert_exporter": "python",
   "pygments_lexer": "ipython2",
   "version": "2.7.12"
  }
 },
 "nbformat": 4,
 "nbformat_minor": 1
}
