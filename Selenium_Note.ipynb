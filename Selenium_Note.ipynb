{
 "cells": [
  {
   "cell_type": "markdown",
   "metadata": {
    "collapsed": true
   },
   "source": [
    "# 不在当前视图范围内的元素的操作"
   ]
  },
  {
   "cell_type": "code",
   "execution_count": null,
   "metadata": {
    "collapsed": true
   },
   "outputs": [],
   "source": [
    "driver.execute_script(\"window.scrollBy(0,200)\",\"\")  #向下滚动200px\n",
    "driver.execute_script(\"window.scrollBy(0,document.body.scrollHeight)\",\"\")  #向下滚动到页面底部"
   ]
  },
  {
   "cell_type": "markdown",
   "metadata": {
    "collapsed": true
   },
   "source": [
    "# time.sleep(2)会使driver休眠两秒，然后再继续执行后面的测试代码"
   ]
  },
  {
   "cell_type": "code",
   "execution_count": null,
   "metadata": {
    "collapsed": true
   },
   "outputs": [],
   "source": [
    "import time\n",
    "#some test code \n",
    "time.sleep(2) \n",
    "#continue test code"
   ]
  },
  {
   "cell_type": "code",
   "execution_count": null,
   "metadata": {
    "collapsed": true
   },
   "outputs": [],
   "source": [
    "# 網頁元件是否存在"
   ]
  },
  {
   "cell_type": "code",
   "execution_count": null,
   "metadata": {
    "collapsed": true
   },
   "outputs": [],
   "source": [
    "driver.findElements(By.id(\"element-id\")).size()!=0"
   ]
  },
  {
   "cell_type": "markdown",
   "metadata": {},
   "source": [
    "# 更新網頁 F5"
   ]
  },
  {
   "cell_type": "code",
   "execution_count": null,
   "metadata": {
    "collapsed": true
   },
   "outputs": [],
   "source": [
    "driver.navigate().refresh();"
   ]
  },
  {
   "cell_type": "markdown",
   "metadata": {},
   "source": [
    "# 瀏覽歷史網頁"
   ]
  },
  {
   "cell_type": "code",
   "execution_count": null,
   "metadata": {
    "collapsed": true
   },
   "outputs": [],
   "source": [
    "driver.navigate().back();\n",
    "driver.navigate().forward();"
   ]
  },
  {
   "cell_type": "markdown",
   "metadata": {},
   "source": [
    "# 等待特定網頁元件狀態"
   ]
  },
  {
   "cell_type": "code",
   "execution_count": null,
   "metadata": {
    "collapsed": true
   },
   "outputs": [],
   "source": [
    "WebDriverWait wait = new WebDriverWait(driver, 30);\n",
    "WebElement element = wait.until(ExpectedConditions.elementToBeClickable(By.id(\"id123\")));\n",
    "\n",
    "#其他幾個比較常用的元件狀態還列舉如下\n",
    "\n",
    "wait.until(ExpectedConditions.visibilityOfElementLocated(locator));\n",
    "wait.until(ExpectedConditions.presenceOfElementLocated(locator));\n",
    "wait.until(ExpectedConditions.elementToBeClickable(locator));"
   ]
  },
  {
   "cell_type": "markdown",
   "metadata": {},
   "source": [
    "# 文字輸入 \n",
    "先用 clear將目前的文字清除，再送出要輸入的文字 sendKeys"
   ]
  },
  {
   "cell_type": "code",
   "execution_count": null,
   "metadata": {
    "collapsed": true
   },
   "outputs": [],
   "source": [
    "WebElement element = driver.findElement(By.id(\"element-id\"));\n",
    "element.clear();\n",
    "element.sendKeys(\"Input the Text Value here\");"
   ]
  },
  {
   "cell_type": "markdown",
   "metadata": {},
   "source": [
    "# Mouse MoveOver\n",
    "有些選單的出現會在滑鼠移動到該選單上方之後才會出現，\n",
    "特別是在 menu的部分或是 tooltip的說明，針對這樣的選單要進行操作，就必須要模擬滑鼠的 MoveOver的動作"
   ]
  },
  {
   "cell_type": "code",
   "execution_count": null,
   "metadata": {
    "collapsed": true
   },
   "outputs": [],
   "source": [
    "Actions actions = new Actions(driver);\n",
    "WebElement menuElement = driver.findElement(By.id(\"menu-element-id\"));\n",
    "actions.moveToElement(menuElement).moveToElement(driver.findElement(By.xpath(\"xpath-of-menu-item-element\"))).click();"
   ]
  },
  {
   "cell_type": "markdown",
   "metadata": {},
   "source": [
    "# 取得網頁元件 CSS屬性\n",
    "有些情況我們需要取得網頁元件特定屬性，這個例子取得 CSS的背景顏色"
   ]
  },
  {
   "cell_type": "code",
   "execution_count": null,
   "metadata": {
    "collapsed": true
   },
   "outputs": [],
   "source": [
    "String bgcolor = driver.findElement(By.id(\"Locator_id\")).getCssValue(\"background-color\");\n",
    "String textColor = driver.findElement(By.id(\"Locator_id\")).getCssValue(\"color\");"
   ]
  },
  {
   "cell_type": "markdown",
   "metadata": {},
   "source": [
    "# 找到網頁所有的連結\n",
    "擷取螢幕畫面有助於幫助我們了解自動化測試的當時發生什麼事情"
   ]
  },
  {
   "cell_type": "code",
   "execution_count": null,
   "metadata": {
    "collapsed": true
   },
   "outputs": [],
   "source": [
    "File scrFile = ((TakesScreenshot)myTestDriver).getScreenshotAs(OutputType.FILE);\n",
    "FileUtils.copyFile(scrFile, new File(\"c:\\\\screenShot_Taken.jpg\"));"
   ]
  },
  {
   "cell_type": "markdown",
   "metadata": {},
   "source": [
    "# 執行特定 JavaScript\n",
    "當無法透過 Selenium WebDriver 對網頁元件進行操作的情況下，我們就可以使用 JavascriptExecutor 。\n",
    "這種情況特別是在處理 HTML5的元件時，上傳檔案或是網頁 scroll down等情況。"
   ]
  },
  {
   "cell_type": "code",
   "execution_count": null,
   "metadata": {
    "collapsed": true
   },
   "outputs": [],
   "source": [
    "JavascriptExecutor jsx = (JavascriptExecutor) driver;\n",
    "jsx.executeScript(\"alert('hi')\");\n",
    "\n",
    "#或是例如上傳檔案也可以利用這樣處理\n",
    "\n",
    "String filePath = \"path\\\\to\\\\file\\for\\\\upload\";\n",
    "JavascriptExecutor jsx = (JavascriptExecutor) driver;\n",
    "jsx.executeScript(\"document.getElementById('fileName').value='\" + filePath + \"';\");\n",
    "                  \n",
    "#網頁 Scroll up/down\n",
    "\n",
    "JavascriptExecutor jsx = (JavascriptExecutor) driver;\n",
    "                  \n",
    "#Vertical scroll – down by 50 pixels\n",
    "jsx.executeScript(\"window.scrollBy(0,50 )\", \"\");\n",
    "                  \n",
    "#Vertical scroll – up by 10 pixels (note the number is minus 55)\n",
    "jsx.executeScript(\"window.scrollBy(0,-10)\", \"\");\n",
    "                  \n",
    "#Horizontal scroll – right by 30 pixels\n",
    "jsx.executeScript(\"window.scrollBy(30,0)\", \"\");\n",
    "                  \n",
    "#Horizontal scroll – left by 45 pixels (note the number is minus 95)\n",
    "jsx.executeScript(\"window.scrollBy(-45,0)\", \"\");"
   ]
  },
  {
   "cell_type": "markdown",
   "metadata": {},
   "source": [
    "# Get HTML Source Of A Element On Page\n",
    "取得 HTML 的原始碼。也可以利用 JavascriptExecutor來達成"
   ]
  },
  {
   "cell_type": "code",
   "execution_count": null,
   "metadata": {
    "collapsed": true
   },
   "outputs": [],
   "source": [
    "JavascriptExecutor jsx = (JavascriptExecutor) driver\n",
    "String elementId = \"element-id\"\n",
    "String html =(String) jsx.executeScript(\"return document.getElementById('\" + elementId + \"').innerHTML;\")"
   ]
  },
  {
   "cell_type": "markdown",
   "metadata": {},
   "source": [
    "# Frames間的切換\n",
    "如果網頁中有許多的 iframe，就必須要切換到正確的 iframe才可以對網頁進行操作"
   ]
  },
  {
   "cell_type": "code",
   "execution_count": null,
   "metadata": {
    "collapsed": true
   },
   "outputs": [],
   "source": [
    "WebElement frameElement = driver.findElement(By.id(\"id-of-frame\"))\n",
    "driver.switchTo().frame(frameElement)"
   ]
  },
  {
   "cell_type": "markdown",
   "metadata": {},
   "source": [
    "# 網頁元件的定位\n",
    "找到網頁元件有幾個方式，ID, name, tag, Xpath, CSS or Text等"
   ]
  },
  {
   "cell_type": "code",
   "execution_count": null,
   "metadata": {
    "collapsed": true
   },
   "outputs": [],
   "source": [
    "#Using ID  \n",
    "WebElement welement = driver.findElement(By.id(\"Id from webpage\"))\n",
    "\n",
    "#Using Name \n",
    "WebElement welement = driver.findElement(By.name(\"Name of WebElement\"))\n",
    "\n",
    "#Using Tag Name  \n",
    "WebElement welement = driver.findElement(By.tagName(\"tag name\"))\n",
    "\n",
    "#Using Xpath  \n",
    "WebElement welement = driver.findElement(By.xpath(\"xpath of  webElement\"))\n",
    "\n",
    "#Using CSS  \n",
    "WebElement welement = driver.findElement(By.CSS(\"CSS locator path\"))\n",
    "\n",
    "#Using LinkText  \n",
    "WebElement welement = driver.findElement(By.LinkText(\"LinkText\"))"
   ]
  },
  {
   "cell_type": "markdown",
   "metadata": {},
   "source": [
    "# Pop-up/alert 訊息的處理\n",
    "alert 視窗有 Ok 與 cancel。那麼要怎樣點選 cancel呢?"
   ]
  },
  {
   "cell_type": "code",
   "execution_count": null,
   "metadata": {
    "collapsed": true
   },
   "outputs": [],
   "source": [
    "Alert alert = driver.switchTo().alert()\n",
    "message = alert.getText()\n",
    "alert.dismiss() #!"
   ]
  },
  {
   "cell_type": "markdown",
   "metadata": {},
   "source": [
    "# 如何讀取 ToolTip 的文字?"
   ]
  },
  {
   "cell_type": "code",
   "execution_count": null,
   "metadata": {
    "collapsed": true
   },
   "outputs": [],
   "source": [
    "public static String tooltipText(WebDriver driver, By locator){\n",
    "String tooltip = driver.findElement(locator).getAttribute(\"title\");\n",
    "return tooltip;\n",
    "}"
   ]
  },
  {
   "cell_type": "markdown",
   "metadata": {},
   "source": [
    "# DropDown menu的選擇"
   ]
  },
  {
   "cell_type": "code",
   "execution_count": null,
   "metadata": {
    "collapsed": true
   },
   "outputs": [],
   "source": [
    "public static void selectDropdown(WebDriver driver, By locator, String value){\n",
    "        new Select (driver.findElement(locator)).selectByVisibleText(value); }"
   ]
  },
  {
   "cell_type": "markdown",
   "metadata": {},
   "source": [
    "# 從輸入過的文字選項選擇"
   ]
  },
  {
   "cell_type": "code",
   "execution_count": null,
   "metadata": {
    "collapsed": true
   },
   "outputs": [],
   "source": [
    "public static void selectSearchDropdown(WebDriver driver, By locator, String value){\n",
    "driver.findElement(locator).click();\n",
    "driver.findElement(locator).sendKeys(value);\n",
    "driver.findElement(locator).sendKeys(Keys.TAB);\n",
    "}"
   ]
  },
  {
   "cell_type": "markdown",
   "metadata": {},
   "source": [
    "# 檔案下載\n",
    "檔案下載可以透過網案下載的網址，直接下載該檔案"
   ]
  },
  {
   "cell_type": "code",
   "execution_count": null,
   "metadata": {
    "collapsed": true
   },
   "outputs": [],
   "source": [
    "public static void downloadFile(String href, String fileName) throws Exception{\n",
    "URL url = null;\n",
    "URLConnection con = null;\n",
    "int i;\n",
    "       url = new URL(href);\n",
    "       con = url.openConnection();\n",
    "    \n",
    "#Here we are specifying the location where we really want to save the file.\n",
    "\n",
    "File file = new File(\".//OutputData//\" + fileName);\n",
    "BufferedInputStream bis = new BufferedInputStream(con.getInputStream());\n",
    "BufferedOutputStream bos = new BufferedOutputStream(\n",
    "new FileOutputStream(file));\n",
    "while ((i = bis.read()) != -1) {\n",
    "       bos.write(i);\n",
    "}\n",
    "bos.flush();\n",
    "bis.close();\n",
    "}"
   ]
  },
  {
   "cell_type": "markdown",
   "metadata": {},
   "source": [
    "# 等待\n",
    "針對網頁載入的時間不一致的狀況下，Selenium可以有三種等待的方式"
   ]
  },
  {
   "cell_type": "code",
   "execution_count": null,
   "metadata": {
    "collapsed": true
   },
   "outputs": [],
   "source": [
    "#Implicit wait\n",
    "\n",
    "driver.manage.timeouts().implicitlyWait(10,TimeUnit.SECONDS);\n",
    "\n",
    "#Explicit Wait\n",
    "\n",
    "WebDriverWait wait = new WebDriverWait(driver,10);\n",
    "wait.until(ExpectedConditons.elementToBeClickable(By.id/xpath/name(\"locator\"));\n",
    "\n",
    "#Sleep\n",
    "Thread.sleep(time in milisecond)"
   ]
  },
  {
   "cell_type": "markdown",
   "metadata": {},
   "source": [
    "# 清除 Cookie\n",
    "為了重設測試環境，例如將之前登入的歷史紀錄與瀏覽過網頁所有相關的資訊，就可以進行Cookie清除"
   ]
  },
  {
   "cell_type": "code",
   "execution_count": null,
   "metadata": {
    "collapsed": true
   },
   "outputs": [],
   "source": [
    "driver.manage().deleteAllCookies()"
   ]
  },
  {
   "cell_type": "markdown",
   "metadata": {},
   "source": [
    "# 模擬鍵盤複合建的動作"
   ]
  },
  {
   "cell_type": "code",
   "execution_count": null,
   "metadata": {
    "collapsed": true
   },
   "outputs": [],
   "source": [
    "Actions builder = new Actions(driver);\n",
    "builder.keyDown(Keys.CONTROL).click(someElement).click(someOtherElement).keyUp(Keys.CONTROL).build().perform();"
   ]
  },
  {
   "cell_type": "markdown",
   "metadata": {},
   "source": [
    "# Drag and Drop 拖曳\n",
    "將網頁元件從 source 移動到 target"
   ]
  },
  {
   "cell_type": "code",
   "execution_count": null,
   "metadata": {
    "collapsed": true
   },
   "outputs": [],
   "source": [
    "WebElement element = driver.findElement(By.name(\"source\"));\n",
    "WebElement target = driver.findElement(By.name(\"target\"));\n",
    "(new Actions(driver)).dragAndDrop(element, target).perform();"
   ]
  },
  {
   "cell_type": "code",
   "execution_count": null,
   "metadata": {
    "collapsed": true
   },
   "outputs": [],
   "source": [
    "####"
   ]
  },
  {
   "cell_type": "code",
   "execution_count": null,
   "metadata": {
    "collapsed": true
   },
   "outputs": [],
   "source": [
    "#移动到元素element对象的“顶端”与当前窗口的“顶部”对齐\n",
    "((JavascriptExecutor) driver).executeScript(\"arguments[0].scrollIntoView();\", element);\n",
    "((JavascriptExecutor) driver).executeScript(\"arguments[0].scrollIntoView(true);\", element);\n",
    "\n",
    "#移动到元素element对象的“底端”与当前窗口的“底部”对齐\n",
    "((JavascriptExecutor) driver).executeScript(\"arguments[0].scrollIntoView(false);\", element);\n",
    "\n",
    "#移动到页面最底部\n",
    "((JavascriptExecutor) driver).executeScript(\"window.scrollTo(0, document.body.scrollHeight)\");\n",
    "\n",
    "#移动到指定的坐标(相对当前的坐标移动)\n",
    "((JavascriptExecutor) driver).executeScript(\"window.scrollBy(0, 700)\");\n",
    "Thread.sleep(3000);\n",
    "#结合上面的scrollBy语句，相当于移动到700+800=1600像素位置\n",
    "((JavascriptExecutor) driver).executeScript(\"window.scrollBy(0, 800)\");\n",
    "\n",
    "#移动到窗口绝对位置坐标，如下移动到纵坐标1600像素位置\n",
    "((JavascriptExecutor) driver).executeScript(\"window.scrollTo(0, 1600)\");\n",
    "Thread.sleep(3000);\n",
    "#结合上面的scrollTo语句，仍然移动到纵坐标1200像素位置\n",
    "((JavascriptExecutor) driver).executeScript(\"window.scrollTo(0, 1200)\");"
   ]
  }
 ],
 "metadata": {
  "anaconda-cloud": {},
  "kernelspec": {
   "display_name": "Python [default]",
   "language": "python",
   "name": "python2"
  },
  "language_info": {
   "codemirror_mode": {
    "name": "ipython",
    "version": 2.0
   },
   "file_extension": ".py",
   "mimetype": "text/x-python",
   "name": "python",
   "nbconvert_exporter": "python",
   "pygments_lexer": "ipython2",
   "version": "2.7.12"
  }
 },
 "nbformat": 4,
 "nbformat_minor": 0
}