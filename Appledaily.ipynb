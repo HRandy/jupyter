{
 "cells": [
  {
   "cell_type": "code",
   "execution_count": null,
   "metadata": {
    "collapsed": false
   },
   "outputs": [],
   "source": [
    "# Let's finish the AppleDaily crawler,\n",
    "import requests as r\n",
    "from bs4 import BeautifulSoup\n",
    "\n",
    "WEBSITE_URL = 'http://www.appledaily.com.tw'\n",
    "\n",
    "res = r.get(WEBSITE_URL + \"/realtimenews/section/new/\") # Response Object\n",
    "soup = BeautifulSoup(res.text, 'lxml') # Beautifulsoup Object\n",
    "article_list = soup.select('.rtddt') # using Beautifulsoup Object's select() method, this is a list of articles\n",
    "\n",
    "articles = [] # our result\n",
    "# how to change page???\n",
    "# HINT:\n",
    "# for page in range(.......):\n",
    "for article in article_list: # for each article in the list.......\n",
    "    try:\n",
    "        article_dict = {} # dictionary for EACH ONE of the articles\n",
    "        article_dict['title'] = article.select_one('font').text # select font element, and it's text attribute\n",
    "        article_dict['type'] = article.select_one('h2').text # select h2 element, .....\n",
    "        article_dict['pub_date'] = article.select_one('time').text\n",
    "        article_url = WEBSITE_URL + article.select_one('a')['href']\n",
    "        article_dict['article_url'] = article_url\n",
    "        article_dict['content'] = BeautifulSoup(r.get(article_url).text, 'lxml').select_one('#summary').text\n",
    "        #print article_dict\n",
    "        articles.append(article_dict) # push(append) into our result list\n",
    "        for a in article_dict:\n",
    "            print article_dict[a]\n",
    "        print \"===============================\"\n",
    "             \n",
    "            \n",
    "    except Exception as e:\n",
    "        print e\n",
    "        \n",
    "# print article_list"
   ]
  },
  {
   "cell_type": "markdown",
   "metadata": {},
   "source": [
    ""
   ]
  },
  {
   "cell_type": "code",
   "execution_count": 14,
   "metadata": {
    "collapsed": false
   },
   "outputs": [
    {
     "data": {
      "text/plain": [
       "unicode"
      ]
     },
     "execution_count": 14,
     "metadata": {},
     "output_type": "execute_result"
    }
   ],
   "source": [
    "type(article_dict['content'])"
   ]
  },
  {
   "cell_type": "code",
   "execution_count": null,
   "metadata": {
    "collapsed": true
   },
   "outputs": [],
   "source": [
    ""
   ]
  }
 ],
 "metadata": {
  "anaconda-cloud": {},
  "kernelspec": {
   "display_name": "Python [default]",
   "language": "python",
   "name": "python2"
  },
  "language_info": {
   "codemirror_mode": {
    "name": "ipython",
    "version": 2.0
   },
   "file_extension": ".py",
   "mimetype": "text/x-python",
   "name": "python",
   "nbconvert_exporter": "python",
   "pygments_lexer": "ipython2",
   "version": "2.7.12"
  }
 },
 "nbformat": 4,
 "nbformat_minor": 0
}