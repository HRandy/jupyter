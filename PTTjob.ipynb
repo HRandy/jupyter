{
 "cells": [
  {
   "cell_type": "code",
   "execution_count": 80,
   "metadata": {
    "collapsed": true
   },
   "outputs": [],
   "source": [
    "import requests as r\n",
    "from bs4 import BeautifulSoup\n",
    "page_url='https://www.ptt.cc{}'\n",
    "\n"
   ]
  },
  {
   "cell_type": "code",
   "execution_count": 96,
   "metadata": {
    "collapsed": false
   },
   "outputs": [
    {
     "ename": "SyntaxError",
     "evalue": "invalid syntax (<ipython-input-96-1ad8fce4fe24>, line 11)",
     "output_type": "error",
     "traceback": [
      "\u001b[0;36m  File \u001b[0;32m\"<ipython-input-96-1ad8fce4fe24>\"\u001b[0;36m, line \u001b[0;32m11\u001b[0m\n\u001b[0;31m    job_dict['content'] = page_url.format.(job.select_one('a')['href'])\u001b[0m\n\u001b[0m                                          ^\u001b[0m\n\u001b[0;31mSyntaxError\u001b[0m\u001b[0;31m:\u001b[0m invalid syntax\n"
     ]
    }
   ],
   "source": [
    "tech_job = r.get(page_url.format('/bbs/Tech_Job/index.html'))\n",
    "tech_job.encoding = 'utf-8'\n",
    "soup = BeautifulSoup(tech_job.text,'lxml')\n",
    "# type(soup)\n",
    "job_list = soup.select('.r-ent')\n",
    "\n",
    "for job in job_list:\n",
    "    job_dict={}\n",
    "    job_dict['title']=job.select_one('.title').text\n",
    "#     job_dict['content']=job.select_one('a')['href']\n",
    "    job_dict['content'] = page_url.format.(job.select_one('a')['href'])\n",
    "    \n",
    "#     job_dict['content'] = page_url.format('content_url')\n",
    "\n",
    "    for k in job_dict:\n",
    "        print job_dict[k]\n",
    "    \n",
    "    "
   ]
  },
  {
   "cell_type": "code",
   "execution_count": 82,
   "metadata": {
    "collapsed": false
   },
   "outputs": [],
   "source": [
    "# for job in jobs:\n",
    "#     job_dict={}\n",
    "#     job_dict['title'] = job.select_one('.title').text\n",
    "#     job_dict['date'] = job.select_one('.date').text\n",
    "#     for k in job_dict:\n",
    "#         print  job_dict[k]\n",
    "    \n",
    "   \n",
    "    \n"
   ]
  },
  {
   "cell_type": "code",
   "execution_count": null,
   "metadata": {
    "collapsed": true
   },
   "outputs": [],
   "source": []
  }
 ],
 "metadata": {
  "anaconda-cloud": {},
  "kernelspec": {
   "display_name": "Python [default]",
   "language": "python",
   "name": "python2"
  },
  "language_info": {
   "codemirror_mode": {
    "name": "ipython",
    "version": 2
   },
   "file_extension": ".py",
   "mimetype": "text/x-python",
   "name": "python",
   "nbconvert_exporter": "python",
   "pygments_lexer": "ipython2",
   "version": "2.7.12"
  }
 },
 "nbformat": 4,
 "nbformat_minor": 1
}
